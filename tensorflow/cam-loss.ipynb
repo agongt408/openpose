{
 "cells": [
  {
   "cell_type": "code",
   "execution_count": 1,
   "metadata": {},
   "outputs": [
    {
     "name": "stderr",
     "output_type": "stream",
     "text": [
      "Using TensorFlow backend.\n"
     ]
    }
   ],
   "source": [
    "import numpy as np\n",
    "import matplotlib.pyplot as plt\n",
    "import time\n",
    "import os\n",
    "%matplotlib inline\n",
    "\n",
    "from keras.callbacks import LearningRateScheduler, History\n",
    "from keras.optimizers import Adam\n",
    "from keras.models import Model\n",
    "from keras.losses import categorical_crossentropy, hinge\n",
    "\n",
    "import tensorflow as tf"
   ]
  },
  {
   "cell_type": "code",
   "execution_count": 2,
   "metadata": {
    "collapsed": true,
    "scrolled": true
   },
   "outputs": [],
   "source": [
    "import sys\n",
    "sys.path.append('/home/albert/github/DenseNet/')\n",
    "import densenet\n",
    "sys.path.append('/home/albert/github/tensorflow/src/')\n",
    "import triplet\n",
    "import evaluation\n",
    "import data\n",
    "import models"
   ]
  },
  {
   "cell_type": "code",
   "execution_count": 3,
   "metadata": {
    "collapsed": true
   },
   "outputs": [],
   "source": [
    "P_param = 6\n",
    "K_param = 4"
   ]
  },
  {
   "cell_type": "markdown",
   "metadata": {},
   "source": [
    "### Data"
   ]
  },
  {
   "cell_type": "code",
   "execution_count": 4,
   "metadata": {
    "collapsed": true
   },
   "outputs": [],
   "source": [
    "train_dict, train_files = data.get_data('train', keypoints=['Neck'])"
   ]
  },
  {
   "cell_type": "code",
   "execution_count": 5,
   "metadata": {
    "scrolled": false
   },
   "outputs": [
    {
     "name": "stdout",
     "output_type": "stream",
     "text": [
      "preprocess True\n",
      "keypoints ['Neck']\n",
      "1.00641393661\n"
     ]
    },
    {
     "data": {
      "image/png": "[encoded data removed]",
      "text/plain": [
       "<matplotlib.figure.Figure at 0x7ff5b1cd9610>"
      ]
     },
     "metadata": {},
     "output_type": "display_data"
    },
    {
     "data": {
      "image/png": "[encoded data removed]",
      "text/plain": [
       "<matplotlib.figure.Figure at 0x7ff542c9c890>"
      ]
     },
     "metadata": {},
     "output_type": "display_data"
    },
    {
     "name": "stdout",
     "output_type": "stream",
     "text": [
      "1.0\n",
      "1.0\n",
      "1.0\n",
      "1.0\n"
     ]
    },
    {
     "data": {
      "image/png": "[encoded data removed]",
      "text/plain": [
       "<matplotlib.figure.Figure at 0x7ff542c9c910>"
      ]
     },
     "metadata": {},
     "output_type": "display_data"
    }
   ],
   "source": [
    "start = time.time()\n",
    "batch = data.output_batch_generator(train_dict, P=P_param, K=K_param, preprocess=True,\n",
    "                                    shape=(256,128), keypoints=['Neck'], \n",
    "                                    cam_output_dim=(16,8), rect=False).next()\n",
    "print time.time() - start\n",
    "\n",
    "plt.figure(figsize=(15,2))\n",
    "for i in range(4):\n",
    "    plt.subplot(1,10,i+1)\n",
    "    plt.imshow(batch[0]['input_im'][i].astype(np.uint8))\n",
    "    plt.axis('off')\n",
    "plt.show()\n",
    "\n",
    "import cv2\n",
    "plt.figure(figsize=(15,2))\n",
    "for i in range(4):\n",
    "    plt.subplot(1,10,i+1)\n",
    "    im = batch[1]['cam_output'][i].squeeze()\n",
    "    plt.imshow(im, cmap=plt.cm.gray)\n",
    "    plt.axis('on')\n",
    "plt.show()\n",
    "\n",
    "plt.figure(figsize=(15,2))\n",
    "for i in range(4):\n",
    "    plt.subplot(1,10,i+1)\n",
    "    im = batch[1]['cam_output'][i].squeeze()\n",
    "    print im.sum()\n",
    "    plt.hist(im.flatten())\n",
    "    plt.axis('on')\n",
    "plt.show()"
   ]
  },
  {
   "cell_type": "markdown",
   "metadata": {},
   "source": [
    "### Train Network"
   ]
  },
  {
   "cell_type": "code",
   "execution_count": 6,
   "metadata": {
    "collapsed": true
   },
   "outputs": [],
   "source": [
    "steps_per_epoch = 100\n",
    "\n",
    "input_shape = (256,128)\n",
    "\n",
    "preprocess = True"
   ]
  },
  {
   "cell_type": "code",
   "execution_count": 7,
   "metadata": {
    "collapsed": true
   },
   "outputs": [],
   "source": [
    "file_root = 'spn_neck_svd_P6K4'\n",
    "if os.path.exists('/home/albert/github/tensorflow/models/%s' % file_root) == False:\n",
    "    os.system('mkdir /home/albert/github/tensorflow/models/%s' % file_root)"
   ]
  },
  {
   "cell_type": "code",
   "execution_count": 8,
   "metadata": {
    "collapsed": true
   },
   "outputs": [],
   "source": [
    "# First integer: number of epochs (e.g., 10)\n",
    "# Second integer: era\n",
    "\n",
    "epochs = 10\n",
    "\n",
    "step_decay_cont_str = \"\"\"\n",
    "def step_decay_cont(epoch, init_epoch=%d*(%d - 1), init_lr=0.0003):\n",
    "    drop = 0.5\n",
    "    epochs_drop = 10.0\n",
    "    t1 = 50.0\n",
    "    if epoch + init_epoch < t1:\n",
    "        lrate = init_lr\n",
    "    else:\n",
    "        lrate = init_lr * np.power(drop,  \n",
    "               np.floor((epoch + init_epoch - t1 + epochs_drop)/(epochs_drop)))\n",
    "    return lrate\n",
    "\"\"\""
   ]
  },
  {
   "cell_type": "code",
   "execution_count": 9,
   "metadata": {},
   "outputs": [
    {
     "data": {
      "text/plain": [
       "[<matplotlib.lines.Line2D at 0x7f61964e6450>]"
      ]
     },
     "execution_count": 9,
     "metadata": {},
     "output_type": "execute_result"
    },
    {
     "data": {
      "image/png": "[encoded data removed]",
      "text/plain": [
       "<matplotlib.figure.Figure at 0x7f622947e490>"
      ]
     },
     "metadata": {},
     "output_type": "display_data"
    }
   ],
   "source": [
    "lr = []\n",
    "for era in range(1,21):\n",
    "    exec(step_decay_cont_str % (epochs, era))\n",
    "    for j in range(10):\n",
    "        lr.append(step_decay_cont(j))\n",
    "plt.plot(np.arange(200), lr)"
   ]
  },
  {
   "cell_type": "code",
   "execution_count": 10,
   "metadata": {},
   "outputs": [
    {
     "name": "stdout",
     "output_type": "stream",
     "text": [
      "Weights for the model were loaded successfully\n",
      "(24, 8, 4, 16)\n",
      "(24, 8, 4, 16)\n"
     ]
    }
   ],
   "source": [
    "camnet = models.SPN(P_param,K_param, weights='imagenet', reduce_dim=True, pool_dim=16)"
   ]
  },
  {
   "cell_type": "code",
   "execution_count": 11,
   "metadata": {
    "collapsed": true
   },
   "outputs": [],
   "source": [
    "b = batch[0]['input_im']\n",
    "spn = camnet.predict(b)"
   ]
  },
  {
   "cell_type": "code",
   "execution_count": 12,
   "metadata": {},
   "outputs": [
    {
     "name": "stdout",
     "output_type": "stream",
     "text": [
      "[[ 0.01777182  0.02211729  0.02290869  0.02125579]\n",
      " [ 0.02304343  0.03592253  0.03364076  0.02351524]\n",
      " [ 0.02849418  0.04389039  0.04017464  0.02799926]\n",
      " [ 0.03015898  0.04897593  0.04342844  0.03168752]\n",
      " [ 0.03098254  0.0462374   0.04454833  0.03095121]\n",
      " [ 0.02882065  0.04244016  0.0385087   0.03037132]\n",
      " [ 0.02487528  0.03871133  0.03719503  0.02543987]\n",
      " [ 0.0192489   0.02528422  0.02361616  0.01778399]]\n"
     ]
    }
   ],
   "source": [
    "print spn[1][4]"
   ]
  },
  {
   "cell_type": "code",
   "execution_count": 13,
   "metadata": {},
   "outputs": [
    {
     "name": "stdout",
     "output_type": "stream",
     "text": [
      "1.0\n"
     ]
    },
    {
     "data": {
      "text/plain": [
       "<matplotlib.image.AxesImage at 0x7f6116ebe1d0>"
      ]
     },
     "execution_count": 13,
     "metadata": {},
     "output_type": "execute_result"
    },
    {
     "data": {
      "image/png": "[encoded data removed]",
      "text/plain": [
       "<matplotlib.figure.Figure at 0x7f6116f44210>"
      ]
     },
     "metadata": {},
     "output_type": "display_data"
    }
   ],
   "source": [
    "print spn[1][2].sum()\n",
    "plt.imshow(spn[1][0].reshape((8,4)))"
   ]
  },
  {
   "cell_type": "code",
   "execution_count": 14,
   "metadata": {
    "collapsed": true
   },
   "outputs": [],
   "source": [
    "import keras\n",
    "class LossHistory(keras.callbacks.Callback):\n",
    "    def on_train_begin(self, logs={}):\n",
    "        self.loss = []\n",
    "        self.final_output_loss = []\n",
    "        self.cam_output_loss = []\n",
    "        \n",
    "    def on_epoch_end(self, epoch, logs={}):\n",
    "#         print logs.keys()\n",
    "        self.loss.append(logs['loss'])\n",
    "        self.final_output_loss.append(logs['final_output_loss'])\n",
    "        self.cam_output_loss.append(logs['cam_output_loss'])\n",
    "    \n",
    "    def on_train_end(self, logs={}):\n",
    "        print self.loss, self.final_output_loss, self.cam_output_loss"
   ]
  },
  {
   "cell_type": "code",
   "execution_count": 15,
   "metadata": {
    "collapsed": true
   },
   "outputs": [],
   "source": [
    "model_json = camnet.to_json()\n",
    "with open(\"/home/albert/github/tensorflow/models/%s/%s.json\" % (file_root, file_root), \"w\") as json_file:\n",
    "    json_file.write(model_json)"
   ]
  },
  {
   "cell_type": "code",
   "execution_count": 16,
   "metadata": {
    "collapsed": true
   },
   "outputs": [],
   "source": [
    "# camnet.set_weights(np.load('/home/albert/github/tensorflow/models/spn_neck_svd_P6K4/spn_neck_svd_P6K4_1000.npy'))"
   ]
  },
  {
   "cell_type": "code",
   "execution_count": 17,
   "metadata": {
    "collapsed": true
   },
   "outputs": [],
   "source": [
    "train_score = {}\n",
    "hist = {'loss' : [], 'final_output_loss' : [], 'cam_output_loss' : []}\n",
    "history = History()\n",
    "loss = LossHistory()"
   ]
  },
  {
   "cell_type": "code",
   "execution_count": 18,
   "metadata": {
    "scrolled": true
   },
   "outputs": [
    {
     "name": "stdout",
     "output_type": "stream",
     "text": [
      "preprocess True\n",
      "keypoints ['Neck']\n",
      "Epoch 1/10\n",
      "100/100 [==============================] - 188s - loss: 958.0740 - final_output_loss: 386.0296 - cam_output_loss: 23.8222   \n",
      "Epoch 2/10\n",
      "100/100 [==============================] - 181s - loss: 783.7048 - final_output_loss: 256.2105 - cam_output_loss: 21.9658   \n",
      "Epoch 3/10\n",
      "100/100 [==============================] - 181s - loss: 663.9251 - final_output_loss: 215.8673 - cam_output_loss: 18.6559   \n",
      "Epoch 4/10\n",
      "100/100 [==============================] - 182s - loss: 555.9354 - final_output_loss: 198.1712 - cam_output_loss: 14.8936   \n",
      "Epoch 5/10\n",
      "100/100 [==============================] - 181s - loss: 435.5926 - final_output_loss: 173.4342 - cam_output_loss: 10.9100   \n",
      "Epoch 6/10\n",
      "100/100 [==============================] - 181s - loss: 371.6235 - final_output_loss: 152.0203 - cam_output_loss: 9.1368   \n",
      "Epoch 7/10\n",
      "100/100 [==============================] - 181s - loss: 331.6833 - final_output_loss: 142.1788 - cam_output_loss: 7.8827   \n",
      "Epoch 8/10\n",
      "100/100 [==============================] - 181s - loss: 281.5055 - final_output_loss: 111.6758 - cam_output_loss: 7.0629   \n",
      "Epoch 9/10\n",
      "100/100 [==============================] - 182s - loss: 236.2121 - final_output_loss: 83.3541 - cam_output_loss: 6.3557   \n",
      "Epoch 10/10\n",
      "100/100 [==============================] - 181s - loss: 215.8504 - final_output_loss: 72.0181 - cam_output_loss: 5.9796   \n",
      "[958.07396667480464, 783.7048413085937, 663.92509277343754, 555.9354187011719, 435.59259078979494, 371.62349319458008, 331.68328353881839, 281.50549118041994, 236.21210739135742, 215.85041381835939] [386.02957122802735, 256.21051277160643, 215.86728425979615, 198.17117328643798, 173.43419623374939, 152.02030981779097, 142.17879431724549, 111.67584935426711, 83.354141092300409, 72.018133130073551] [23.822193660736083, 21.96582962036133, 18.655903530120849, 14.893619489669799, 10.910004177093505, 9.1368352842330935, 7.882696571350098, 7.0628860330581666, 6.3557144451141356, 5.9796288585662838]\n",
      "1000 23.931677103\n",
      "2000 45.2886002064\n",
      "3000 66.6461660862\n",
      "4000 88.0127210617\n",
      "5000 109.372964144\n",
      "6000 130.725686073\n",
      "7000 152.084455013\n",
      "8000 173.44889617\n",
      "9000 194.81500411\n",
      "10000 216.178707123\n",
      "11000 237.539136171\n",
      "12000 258.889860153\n",
      "13000 280.247904062\n",
      "14000 301.60139513\n",
      "15000 322.966235161\n",
      "16000 344.316521168\n",
      "17000 365.680543184\n",
      "18000 387.03582716\n",
      "19000 408.398146152\n",
      "1000 21.3961520195\n",
      "2000 42.7841658592\n",
      "3000 64.1624519825\n",
      "1000 {'mAP': 0.053998552875389523, 'rank': [0.12232779097387174, 0.2814726840855107, 0.4913895486935867], 'loss': [958.07396667480464, 783.7048413085937, 663.92509277343754, 555.9354187011719, 435.59259078979494, 371.62349319458008, 331.68328353881839, 281.50549118041994, 236.21210739135742, 215.85041381835939]}preprocess\n",
      " True\n",
      "keypoints ['Neck']\n",
      "Epoch 1/10\n",
      "100/100 [==============================] - 187s - loss: 213.5195 - final_output_loss: 80.7379 - cam_output_loss: 5.5192   \n",
      "Epoch 2/10\n",
      "100/100 [==============================] - 182s - loss: 190.4490 - final_output_loss: 60.0142 - cam_output_loss: 5.4214   \n",
      "Epoch 3/10\n",
      "100/100 [==============================] - 182s - loss: 187.8614 - final_output_loss: 64.9886 - cam_output_loss: 5.1063   \n",
      "Epoch 4/10\n",
      "100/100 [==============================] - 182s - loss: 173.1738 - final_output_loss: 56.5551 - cam_output_loss: 4.8457   \n",
      "Epoch 5/10\n",
      "100/100 [==============================] - 182s - loss: 164.6334 - final_output_loss: 49.4824 - cam_output_loss: 4.7845   \n",
      "Epoch 6/10\n",
      "100/100 [==============================] - 182s - loss: 160.4774 - final_output_loss: 46.1922 - cam_output_loss: 4.7484   \n",
      "Epoch 7/10\n",
      "100/100 [==============================] - 182s - loss: 160.9405 - final_output_loss: 49.2153 - cam_output_loss: 4.6417   \n",
      "Epoch 8/10\n",
      "100/100 [==============================] - 182s - loss: 152.4203 - final_output_loss: 46.1291 - cam_output_loss: 4.4153   \n",
      "Epoch 9/10\n",
      "100/100 [==============================] - 182s - loss: 151.5975 - final_output_loss: 49.5193 - cam_output_loss: 4.2397   \n",
      "Epoch 10/10\n",
      "100/100 [==============================] - 182s - loss: 136.2212 - final_output_loss: 34.3717 - cam_output_loss: 4.2302   \n",
      "[213.51949272155761, 190.44904930114745, 187.86144798278809, 173.17381561279296, 164.63341018676758, 160.47741584777833, 160.94049331665039, 152.42030807495118, 151.59747467041015, 136.22120338439942] [80.737921881675717, 60.014192081689835, 64.988628697395328, 56.555065446197986, 49.482411423921583, 46.192229945659641, 49.215254145860669, 46.129073544144632, 49.519301633983851, 34.371653522253034] [5.5191661405563357, 5.4213706254959106, 5.1062710595130918, 4.8456709098815915, 4.7845017552375797, 4.7484107923507688, 4.6417303657531734, 4.4152949714660643, 4.2397332215309147, 4.2301922988891603]\n",
      "1000 24.0399420261\n",
      "2000 45.4170529842\n",
      "3000 66.8163728714\n",
      "4000 88.250921011\n",
      "5000 109.709724903\n",
      "6000 131.148319006\n",
      "7000 152.565143824\n",
      "8000 173.943171024\n",
      "9000 195.391347885\n",
      "10000 216.828877926\n",
      "11000 238.269815922\n",
      "12000 259.716644049\n",
      "13000 281.16427803\n",
      "14000 302.626036882\n",
      "15000 324.091199875\n",
      "16000 345.566108942\n",
      "17000 367.053831816\n",
      "18000 388.504930973\n",
      "19000 409.926046848\n",
      "1000 21.4979569912\n",
      "2000 42.9701111317\n",
      "3000 64.4681560993\n",
      "2000preprocess  {'mAP': 0.058948896356719627, 'rank': [0.1374703087885986, 0.3096793349168646, 0.5136579572446556], 'loss': [213.51949272155761, 190.44904930114745, 187.86144798278809, 173.17381561279296, 164.63341018676758, 160.47741584777833, 160.94049331665039, 152.42030807495118, 151.59747467041015, 136.22120338439942]}True\n",
      "\n",
      "keypoints ['Neck']\n",
      "Epoch 1/10\n",
      "100/100 [==============================] - 186s - loss: 132.5743 - final_output_loss: 33.5389 - cam_output_loss: 4.1129   \n",
      "Epoch 2/10\n",
      "100/100 [==============================] - 181s - loss: 134.1097 - final_output_loss: 33.7355 - cam_output_loss: 4.1687   \n",
      "Epoch 3/10\n",
      "100/100 [==============================] - 180s - loss: 140.7006 - final_output_loss: 43.2704 - cam_output_loss: 4.0460   \n",
      "Epoch 4/10\n",
      "100/100 [==============================] - 181s - loss: 151.6454 - final_output_loss: 51.4997 - cam_output_loss: 4.1591   \n",
      "Epoch 5/10\n",
      "100/100 [==============================] - 180s - loss: 134.9050 - final_output_loss: 39.3554 - cam_output_loss: 3.9676   \n",
      "Epoch 6/10\n",
      "100/100 [==============================] - 180s - loss: 138.6298 - final_output_loss: 40.0167 - cam_output_loss: 4.0952   \n",
      "Epoch 7/10\n",
      "100/100 [==============================] - 181s - loss: 130.2531 - final_output_loss: 32.7523 - cam_output_loss: 4.0488   \n",
      "Epoch 8/10\n",
      "100/100 [==============================] - 181s - loss: 148.7309 - final_output_loss: 47.8433 - cam_output_loss: 4.1899   \n",
      "Epoch 9/10\n",
      "100/100 [==============================] - 180s - loss: 142.0436 - final_output_loss: 47.4721 - cam_output_loss: 3.9267   \n",
      "Epoch 10/10\n",
      "100/100 [==============================] - 180s - loss: 138.9968 - final_output_loss: 45.3878 - cam_output_loss: 3.8866   \n",
      "[132.57432350158692, 134.10973289489746, 140.70058113098145, 151.6454298400879, 134.90504943847657, 138.6298338317871, 130.25305519104003, 148.73088386535645, 142.04358116149902, 138.99682411193848] [33.538888543844223, 33.735527424812318, 43.270402669906616, 51.499650863409045, 39.355438250303266, 40.016744086779653, 32.752257023453716, 47.843329937458037, 47.472050194740298, 45.387784800529481] [4.1129237437248234, 4.168689994812012, 4.0460035729408261, 4.159126620292664, 3.967593562602997, 4.0952149319648745, 4.0488447189331058, 4.1899224877357479, 3.9267235302925112, 3.886587390899658]\n",
      "1000 24.4962248802\n",
      "2000 46.2047948837\n",
      "3000 67.9458518028\n",
      "4000 89.6571638584\n",
      "5000 111.380035877\n",
      "6000 133.173268795\n",
      "7000 154.944446802\n",
      "8000 176.73257184\n",
      "9000 198.490157843\n",
      "10000 220.255110979\n",
      "11000 242.039594889\n",
      "12000 263.818274975\n",
      "13000 285.594905853\n",
      "14000 307.36451292\n",
      "15000 329.137653828\n",
      "16000 350.904359818\n",
      "17000 372.644064903\n",
      "18000 394.361780882\n",
      "19000 416.128639936\n",
      "1000 21.8041529655\n",
      "2000 43.651237011\n",
      "3000 65.4839060307\n",
      "3000preprocess  {'mAP': 0.059890215579333154, 'rank': [0.13153206650831353, 0.2995843230403801, 0.5115795724465558], 'loss': [132.57432350158692, 134.10973289489746, 140.70058113098145, 151.6454298400879, 134.90504943847657, 138.6298338317871, 130.25305519104003, 148.73088386535645, 142.04358116149902, 138.99682411193848]}True\n",
      "\n",
      "keypoints ['Neck']\n",
      "Epoch 1/10\n"
     ]
    },
    {
     "name": "stdout",
     "output_type": "stream",
     "text": [
      "100/100 [==============================] - 185s - loss: 133.0436 - final_output_loss: 38.8546 - cam_output_loss: 3.9107   \n",
      "Epoch 2/10\n",
      "100/100 [==============================] - 181s - loss: 137.2744 - final_output_loss: 46.6915 - cam_output_loss: 3.7604   \n",
      "Epoch 3/10\n",
      "100/100 [==============================] - 182s - loss: 138.0268 - final_output_loss: 41.8896 - cam_output_loss: 3.9918   \n",
      "Epoch 4/10\n",
      "100/100 [==============================] - 182s - loss: 142.0904 - final_output_loss: 47.6613 - cam_output_loss: 3.9206   \n",
      "Epoch 5/10\n",
      "100/100 [==============================] - 181s - loss: 129.6356 - final_output_loss: 39.4841 - cam_output_loss: 3.7423   \n",
      "Epoch 6/10\n",
      "100/100 [==============================] - 182s - loss: 122.8471 - final_output_loss: 32.3594 - cam_output_loss: 3.7563   \n",
      "Epoch 7/10\n",
      "100/100 [==============================] - 181s - loss: 118.3231 - final_output_loss: 32.2166 - cam_output_loss: 3.5737   \n",
      "Epoch 8/10\n",
      "100/100 [==============================] - 182s - loss: 131.3907 - final_output_loss: 43.5004 - cam_output_loss: 3.6480   \n",
      "Epoch 9/10\n",
      "100/100 [==============================] - 181s - loss: 129.7026 - final_output_loss: 37.6328 - cam_output_loss: 3.8221   \n",
      "Epoch 10/10\n",
      "100/100 [==============================] - 182s - loss: 128.4474 - final_output_loss: 41.3992 - cam_output_loss: 3.6129   \n",
      "[133.0436117553711, 137.27441268920899, 138.02676277160646, 142.09044525146484, 129.63564834594726, 122.84707122802735, 118.32305435180665, 131.39072853088379, 129.70262496948243, 128.44741447448732] [38.854627448320386, 46.691494483947757, 41.889574018716814, 47.661321722418073, 39.484110016822818, 32.359412773996588, 32.216591367721556, 43.50036917954683, 37.63283206343651, 41.39921716213226] [3.9107133698463441, 3.76042617559433, 3.9918157172203066, 3.9206110262870788, 3.7423363375663756, 3.7563120484352113, 3.5737333917617797, 3.6480310177803039, 3.8221313953399658, 3.6128575682640074]\n",
      "1000 24.9206371307\n",
      "2000 46.9602849483\n",
      "3000 68.9605150223\n",
      "4000 90.9487061501\n",
      "5000 112.92482996\n",
      "6000 134.910369158\n",
      "7000 156.963338137\n",
      "8000 179.000133038\n",
      "9000 201.052830935\n",
      "10000 223.107392073\n",
      "11000 245.155380964\n",
      "12000 267.177914143\n",
      "13000 289.22467494\n",
      "14000 311.257280111\n",
      "15000 333.292631149\n",
      "16000 355.303221941\n",
      "17000 377.296031952\n",
      "18000 399.319467068\n",
      "19000 421.358941078\n",
      "1000 22.0678169727\n",
      "2000 44.174243927\n",
      "3000 66.2439639568\n",
      "4000 {'mAP': 0.052321842835328057, 'rank': [0.11193586698337292, 0.27998812351543945, 0.49406175771971494], 'loss': [133.0436117553711, 137.27441268920899, 138.02676277160646, 142.09044525146484, 129.63564834594726, 122.84707122802735, 118.32305435180665, 131.39072853088379, 129.70262496948243, 128.44741447448732]}\n",
      "preprocess True\n",
      "keypoints ['Neck']\n",
      "Epoch 1/10\n",
      "100/100 [==============================] - 188s - loss: 125.7427 - final_output_loss: 36.3848 - cam_output_loss: 3.7090   \n",
      "Epoch 2/10\n",
      "100/100 [==============================] - 183s - loss: 144.7604 - final_output_loss: 51.5272 - cam_output_loss: 3.8705   \n",
      "Epoch 3/10\n",
      "100/100 [==============================] - 184s - loss: 210.6527 - final_output_loss: 99.8569 - cam_output_loss: 4.6021    \n",
      "Epoch 4/10\n",
      "100/100 [==============================] - 183s - loss: 145.9601 - final_output_loss: 49.2141 - cam_output_loss: 4.0166   \n",
      "Epoch 5/10\n",
      "100/100 [==============================] - 184s - loss: 132.8942 - final_output_loss: 38.2262 - cam_output_loss: 3.9300   \n",
      "Epoch 6/10\n",
      " 32/100 [========>.....................] - ETA: 124s - loss: 116.5613 - final_output_loss: 29.6543 - cam_output_loss: 3.6066"
     ]
    },
    {
     "ename": "ResourceExhaustedError",
     "evalue": "OOM when allocating tensor with shape[24,1024,1024]\n\t [[Node: cam_output/transpose = Transpose[T=DT_FLOAT, Tperm=DT_INT32, _device=\"/job:localhost/replica:0/task:0/gpu:0\"](cam_output/StopGradient_2, cam_output/transpose/perm)]]\n\t [[Node: loss/add_62/_5479 = _Recv[client_terminated=false, recv_device=\"/job:localhost/replica:0/task:0/cpu:0\", send_device=\"/job:localhost/replica:0/task:0/gpu:0\", send_device_incarnation=1, tensor_name=\"edge_194603_loss/add_62\", tensor_type=DT_FLOAT, _device=\"/job:localhost/replica:0/task:0/cpu:0\"]()]]\n\nCaused by op u'cam_output/transpose', defined at:\n  File \"/home/albert/anaconda2/lib/python2.7/runpy.py\", line 174, in _run_module_as_main\n    \"__main__\", fname, loader, pkg_name)\n  File \"/home/albert/anaconda2/lib/python2.7/runpy.py\", line 72, in _run_code\n    exec code in run_globals\n  File \"/home/albert/anaconda2/lib/python2.7/site-packages/ipykernel_launcher.py\", line 16, in <module>\n    app.launch_new_instance()\n  File \"/home/albert/anaconda2/lib/python2.7/site-packages/traitlets/config/application.py\", line 658, in launch_instance\n    app.start()\n  File \"/home/albert/anaconda2/lib/python2.7/site-packages/ipykernel/kernelapp.py\", line 477, in start\n    ioloop.IOLoop.instance().start()\n  File \"/home/albert/anaconda2/lib/python2.7/site-packages/zmq/eventloop/ioloop.py\", line 177, in start\n    super(ZMQIOLoop, self).start()\n  File \"/home/albert/anaconda2/lib/python2.7/site-packages/tornado/ioloop.py\", line 888, in start\n    handler_func(fd_obj, events)\n  File \"/home/albert/anaconda2/lib/python2.7/site-packages/tornado/stack_context.py\", line 277, in null_wrapper\n    return fn(*args, **kwargs)\n  File \"/home/albert/anaconda2/lib/python2.7/site-packages/zmq/eventloop/zmqstream.py\", line 440, in _handle_events\n    self._handle_recv()\n  File \"/home/albert/anaconda2/lib/python2.7/site-packages/zmq/eventloop/zmqstream.py\", line 472, in _handle_recv\n    self._run_callback(callback, msg)\n  File \"/home/albert/anaconda2/lib/python2.7/site-packages/zmq/eventloop/zmqstream.py\", line 414, in _run_callback\n    callback(*args, **kwargs)\n  File \"/home/albert/anaconda2/lib/python2.7/site-packages/tornado/stack_context.py\", line 277, in null_wrapper\n    return fn(*args, **kwargs)\n  File \"/home/albert/anaconda2/lib/python2.7/site-packages/ipykernel/kernelbase.py\", line 283, in dispatcher\n    return self.dispatch_shell(stream, msg)\n  File \"/home/albert/anaconda2/lib/python2.7/site-packages/ipykernel/kernelbase.py\", line 235, in dispatch_shell\n    handler(stream, idents, msg)\n  File \"/home/albert/anaconda2/lib/python2.7/site-packages/ipykernel/kernelbase.py\", line 399, in execute_request\n    user_expressions, allow_stdin)\n  File \"/home/albert/anaconda2/lib/python2.7/site-packages/ipykernel/ipkernel.py\", line 196, in do_execute\n    res = shell.run_cell(code, store_history=store_history, silent=silent)\n  File \"/home/albert/anaconda2/lib/python2.7/site-packages/ipykernel/zmqshell.py\", line 533, in run_cell\n    return super(ZMQInteractiveShell, self).run_cell(*args, **kwargs)\n  File \"/home/albert/anaconda2/lib/python2.7/site-packages/IPython/core/interactiveshell.py\", line 2717, in run_cell\n    interactivity=interactivity, compiler=compiler, result=result)\n  File \"/home/albert/anaconda2/lib/python2.7/site-packages/IPython/core/interactiveshell.py\", line 2821, in run_ast_nodes\n    if self.run_code(code, result):\n  File \"/home/albert/anaconda2/lib/python2.7/site-packages/IPython/core/interactiveshell.py\", line 2881, in run_code\n    exec(code_obj, self.user_global_ns, self.user_ns)\n  File \"<ipython-input-10-59875dab7ce6>\", line 1, in <module>\n    camnet = models.SPN(P_param,K_param, weights='imagenet', reduce_dim=True, pool_dim=16)\n  File \"/home/albert/github/tensorflow/src/models.py\", line 143, in SPN\n    cam_output = Lambda(cam, name='cam_output', arguments={'P' : P_param, 'K' : K_param})(base.layers[-2].output)\n  File \"/home/albert/anaconda2/lib/python2.7/site-packages/keras/engine/topology.py\", line 602, in __call__\n    output = self.call(inputs, **kwargs)\n  File \"/home/albert/anaconda2/lib/python2.7/site-packages/keras/layers/core.py\", line 650, in call\n    return self.function(inputs, **arguments)\n  File \"<string>\", line 9, in cam\n  File \"/home/albert/github/tensorflow/src/models.py\", line 34, in svd\n    Ui, Vti = map(tf.matrix_inverse, [U0, tf.transpose(V0, (0, 2, 1))])\n  File \"/home/albert/anaconda2/lib/python2.7/site-packages/tensorflow/python/ops/array_ops.py\", line 1303, in transpose\n    ret = gen_array_ops.transpose(a, perm, name=name)\n  File \"/home/albert/anaconda2/lib/python2.7/site-packages/tensorflow/python/ops/gen_array_ops.py\", line 3887, in transpose\n    result = _op_def_lib.apply_op(\"Transpose\", x=x, perm=perm, name=name)\n  File \"/home/albert/anaconda2/lib/python2.7/site-packages/tensorflow/python/framework/op_def_library.py\", line 767, in apply_op\n    op_def=op_def)\n  File \"/home/albert/anaconda2/lib/python2.7/site-packages/tensorflow/python/framework/ops.py\", line 2630, in create_op\n    original_op=self._default_original_op, op_def=op_def)\n  File \"/home/albert/anaconda2/lib/python2.7/site-packages/tensorflow/python/framework/ops.py\", line 1204, in __init__\n    self._traceback = self._graph._extract_stack()  # pylint: disable=protected-access\n\nResourceExhaustedError (see above for traceback): OOM when allocating tensor with shape[24,1024,1024]\n\t [[Node: cam_output/transpose = Transpose[T=DT_FLOAT, Tperm=DT_INT32, _device=\"/job:localhost/replica:0/task:0/gpu:0\"](cam_output/StopGradient_2, cam_output/transpose/perm)]]\n\t [[Node: loss/add_62/_5479 = _Recv[client_terminated=false, recv_device=\"/job:localhost/replica:0/task:0/cpu:0\", send_device=\"/job:localhost/replica:0/task:0/gpu:0\", send_device_incarnation=1, tensor_name=\"edge_194603_loss/add_62\", tensor_type=DT_FLOAT, _device=\"/job:localhost/replica:0/task:0/cpu:0\"]()]]\n",
     "output_type": "error",
     "traceback": [
      "\u001b[0;31m---------------------------------------------------------------------------\u001b[0m",
      "\u001b[0;31mResourceExhaustedError\u001b[0m                    Traceback (most recent call last)",
      "\u001b[0;32m<ipython-input-18-3b9901bcc013>\u001b[0m in \u001b[0;36m<module>\u001b[0;34m()\u001b[0m\n\u001b[1;32m      9\u001b[0m                          \u001b[0msteps_per_epoch\u001b[0m\u001b[0;34m=\u001b[0m\u001b[0msteps_per_epoch\u001b[0m\u001b[0;34m,\u001b[0m\u001b[0;34m\u001b[0m\u001b[0m\n\u001b[1;32m     10\u001b[0m                          \u001b[0mepochs\u001b[0m\u001b[0;34m=\u001b[0m\u001b[0mepochs\u001b[0m\u001b[0;34m,\u001b[0m\u001b[0;34m\u001b[0m\u001b[0m\n\u001b[0;32m---> 11\u001b[0;31m                          callbacks=[lrate, history, loss])\n\u001b[0m\u001b[1;32m     12\u001b[0m \u001b[0;34m\u001b[0m\u001b[0m\n\u001b[1;32m     13\u001b[0m     \u001b[0mfile_name\u001b[0m \u001b[0;34m=\u001b[0m \u001b[0mfile_root\u001b[0m \u001b[0;34m+\u001b[0m \u001b[0;34m'_'\u001b[0m \u001b[0;34m+\u001b[0m \u001b[0mstr\u001b[0m\u001b[0;34m(\u001b[0m\u001b[0miterations\u001b[0m\u001b[0;34m)\u001b[0m \u001b[0;34m+\u001b[0m \u001b[0;34m'.npy'\u001b[0m\u001b[0;34m\u001b[0m\u001b[0m\n",
      "\u001b[0;32m/home/albert/anaconda2/lib/python2.7/site-packages/keras/legacy/interfaces.pyc\u001b[0m in \u001b[0;36mwrapper\u001b[0;34m(*args, **kwargs)\u001b[0m\n\u001b[1;32m     85\u001b[0m                 warnings.warn('Update your `' + object_name +\n\u001b[1;32m     86\u001b[0m                               '` call to the Keras 2 API: ' + signature, stacklevel=2)\n\u001b[0;32m---> 87\u001b[0;31m             \u001b[0;32mreturn\u001b[0m \u001b[0mfunc\u001b[0m\u001b[0;34m(\u001b[0m\u001b[0;34m*\u001b[0m\u001b[0margs\u001b[0m\u001b[0;34m,\u001b[0m \u001b[0;34m**\u001b[0m\u001b[0mkwargs\u001b[0m\u001b[0;34m)\u001b[0m\u001b[0;34m\u001b[0m\u001b[0m\n\u001b[0m\u001b[1;32m     88\u001b[0m         \u001b[0mwrapper\u001b[0m\u001b[0;34m.\u001b[0m\u001b[0m_original_function\u001b[0m \u001b[0;34m=\u001b[0m \u001b[0mfunc\u001b[0m\u001b[0;34m\u001b[0m\u001b[0m\n\u001b[1;32m     89\u001b[0m         \u001b[0;32mreturn\u001b[0m \u001b[0mwrapper\u001b[0m\u001b[0;34m\u001b[0m\u001b[0m\n",
      "\u001b[0;32m/home/albert/anaconda2/lib/python2.7/site-packages/keras/engine/training.pyc\u001b[0m in \u001b[0;36mfit_generator\u001b[0;34m(self, generator, steps_per_epoch, epochs, verbose, callbacks, validation_data, validation_steps, class_weight, max_queue_size, workers, use_multiprocessing, shuffle, initial_epoch)\u001b[0m\n\u001b[1;32m   2040\u001b[0m                     outs = self.train_on_batch(x, y,\n\u001b[1;32m   2041\u001b[0m                                                \u001b[0msample_weight\u001b[0m\u001b[0;34m=\u001b[0m\u001b[0msample_weight\u001b[0m\u001b[0;34m,\u001b[0m\u001b[0;34m\u001b[0m\u001b[0m\n\u001b[0;32m-> 2042\u001b[0;31m                                                class_weight=class_weight)\n\u001b[0m\u001b[1;32m   2043\u001b[0m \u001b[0;34m\u001b[0m\u001b[0m\n\u001b[1;32m   2044\u001b[0m                     \u001b[0;32mif\u001b[0m \u001b[0;32mnot\u001b[0m \u001b[0misinstance\u001b[0m\u001b[0;34m(\u001b[0m\u001b[0mouts\u001b[0m\u001b[0;34m,\u001b[0m \u001b[0mlist\u001b[0m\u001b[0;34m)\u001b[0m\u001b[0;34m:\u001b[0m\u001b[0;34m\u001b[0m\u001b[0m\n",
      "\u001b[0;32m/home/albert/anaconda2/lib/python2.7/site-packages/keras/engine/training.pyc\u001b[0m in \u001b[0;36mtrain_on_batch\u001b[0;34m(self, x, y, sample_weight, class_weight)\u001b[0m\n\u001b[1;32m   1760\u001b[0m             \u001b[0mins\u001b[0m \u001b[0;34m=\u001b[0m \u001b[0mx\u001b[0m \u001b[0;34m+\u001b[0m \u001b[0my\u001b[0m \u001b[0;34m+\u001b[0m \u001b[0msample_weights\u001b[0m\u001b[0;34m\u001b[0m\u001b[0m\n\u001b[1;32m   1761\u001b[0m         \u001b[0mself\u001b[0m\u001b[0;34m.\u001b[0m\u001b[0m_make_train_function\u001b[0m\u001b[0;34m(\u001b[0m\u001b[0;34m)\u001b[0m\u001b[0;34m\u001b[0m\u001b[0m\n\u001b[0;32m-> 1762\u001b[0;31m         \u001b[0moutputs\u001b[0m \u001b[0;34m=\u001b[0m \u001b[0mself\u001b[0m\u001b[0;34m.\u001b[0m\u001b[0mtrain_function\u001b[0m\u001b[0;34m(\u001b[0m\u001b[0mins\u001b[0m\u001b[0;34m)\u001b[0m\u001b[0;34m\u001b[0m\u001b[0m\n\u001b[0m\u001b[1;32m   1763\u001b[0m         \u001b[0;32mif\u001b[0m \u001b[0mlen\u001b[0m\u001b[0;34m(\u001b[0m\u001b[0moutputs\u001b[0m\u001b[0;34m)\u001b[0m \u001b[0;34m==\u001b[0m \u001b[0;36m1\u001b[0m\u001b[0;34m:\u001b[0m\u001b[0;34m\u001b[0m\u001b[0m\n\u001b[1;32m   1764\u001b[0m             \u001b[0;32mreturn\u001b[0m \u001b[0moutputs\u001b[0m\u001b[0;34m[\u001b[0m\u001b[0;36m0\u001b[0m\u001b[0;34m]\u001b[0m\u001b[0;34m\u001b[0m\u001b[0m\n",
      "\u001b[0;32m/home/albert/anaconda2/lib/python2.7/site-packages/keras/backend/tensorflow_backend.pyc\u001b[0m in \u001b[0;36m__call__\u001b[0;34m(self, inputs)\u001b[0m\n\u001b[1;32m   2271\u001b[0m         updated = session.run(self.outputs + [self.updates_op],\n\u001b[1;32m   2272\u001b[0m                               \u001b[0mfeed_dict\u001b[0m\u001b[0;34m=\u001b[0m\u001b[0mfeed_dict\u001b[0m\u001b[0;34m,\u001b[0m\u001b[0;34m\u001b[0m\u001b[0m\n\u001b[0;32m-> 2273\u001b[0;31m                               **self.session_kwargs)\n\u001b[0m\u001b[1;32m   2274\u001b[0m         \u001b[0;32mreturn\u001b[0m \u001b[0mupdated\u001b[0m\u001b[0;34m[\u001b[0m\u001b[0;34m:\u001b[0m\u001b[0mlen\u001b[0m\u001b[0;34m(\u001b[0m\u001b[0mself\u001b[0m\u001b[0;34m.\u001b[0m\u001b[0moutputs\u001b[0m\u001b[0;34m)\u001b[0m\u001b[0;34m]\u001b[0m\u001b[0;34m\u001b[0m\u001b[0m\n\u001b[1;32m   2275\u001b[0m \u001b[0;34m\u001b[0m\u001b[0m\n",
      "\u001b[0;32m/home/albert/anaconda2/lib/python2.7/site-packages/tensorflow/python/client/session.pyc\u001b[0m in \u001b[0;36mrun\u001b[0;34m(self, fetches, feed_dict, options, run_metadata)\u001b[0m\n\u001b[1;32m    893\u001b[0m     \u001b[0;32mtry\u001b[0m\u001b[0;34m:\u001b[0m\u001b[0;34m\u001b[0m\u001b[0m\n\u001b[1;32m    894\u001b[0m       result = self._run(None, fetches, feed_dict, options_ptr,\n\u001b[0;32m--> 895\u001b[0;31m                          run_metadata_ptr)\n\u001b[0m\u001b[1;32m    896\u001b[0m       \u001b[0;32mif\u001b[0m \u001b[0mrun_metadata\u001b[0m\u001b[0;34m:\u001b[0m\u001b[0;34m\u001b[0m\u001b[0m\n\u001b[1;32m    897\u001b[0m         \u001b[0mproto_data\u001b[0m \u001b[0;34m=\u001b[0m \u001b[0mtf_session\u001b[0m\u001b[0;34m.\u001b[0m\u001b[0mTF_GetBuffer\u001b[0m\u001b[0;34m(\u001b[0m\u001b[0mrun_metadata_ptr\u001b[0m\u001b[0;34m)\u001b[0m\u001b[0;34m\u001b[0m\u001b[0m\n",
      "\u001b[0;32m/home/albert/anaconda2/lib/python2.7/site-packages/tensorflow/python/client/session.pyc\u001b[0m in \u001b[0;36m_run\u001b[0;34m(self, handle, fetches, feed_dict, options, run_metadata)\u001b[0m\n\u001b[1;32m   1122\u001b[0m     \u001b[0;32mif\u001b[0m \u001b[0mfinal_fetches\u001b[0m \u001b[0;32mor\u001b[0m \u001b[0mfinal_targets\u001b[0m \u001b[0;32mor\u001b[0m \u001b[0;34m(\u001b[0m\u001b[0mhandle\u001b[0m \u001b[0;32mand\u001b[0m \u001b[0mfeed_dict_tensor\u001b[0m\u001b[0;34m)\u001b[0m\u001b[0;34m:\u001b[0m\u001b[0;34m\u001b[0m\u001b[0m\n\u001b[1;32m   1123\u001b[0m       results = self._do_run(handle, final_targets, final_fetches,\n\u001b[0;32m-> 1124\u001b[0;31m                              feed_dict_tensor, options, run_metadata)\n\u001b[0m\u001b[1;32m   1125\u001b[0m     \u001b[0;32melse\u001b[0m\u001b[0;34m:\u001b[0m\u001b[0;34m\u001b[0m\u001b[0m\n\u001b[1;32m   1126\u001b[0m       \u001b[0mresults\u001b[0m \u001b[0;34m=\u001b[0m \u001b[0;34m[\u001b[0m\u001b[0;34m]\u001b[0m\u001b[0;34m\u001b[0m\u001b[0m\n",
      "\u001b[0;32m/home/albert/anaconda2/lib/python2.7/site-packages/tensorflow/python/client/session.pyc\u001b[0m in \u001b[0;36m_do_run\u001b[0;34m(self, handle, target_list, fetch_list, feed_dict, options, run_metadata)\u001b[0m\n\u001b[1;32m   1319\u001b[0m     \u001b[0;32mif\u001b[0m \u001b[0mhandle\u001b[0m \u001b[0;32mis\u001b[0m \u001b[0mNone\u001b[0m\u001b[0;34m:\u001b[0m\u001b[0;34m\u001b[0m\u001b[0m\n\u001b[1;32m   1320\u001b[0m       return self._do_call(_run_fn, self._session, feeds, fetches, targets,\n\u001b[0;32m-> 1321\u001b[0;31m                            options, run_metadata)\n\u001b[0m\u001b[1;32m   1322\u001b[0m     \u001b[0;32melse\u001b[0m\u001b[0;34m:\u001b[0m\u001b[0;34m\u001b[0m\u001b[0m\n\u001b[1;32m   1323\u001b[0m       \u001b[0;32mreturn\u001b[0m \u001b[0mself\u001b[0m\u001b[0;34m.\u001b[0m\u001b[0m_do_call\u001b[0m\u001b[0;34m(\u001b[0m\u001b[0m_prun_fn\u001b[0m\u001b[0;34m,\u001b[0m \u001b[0mself\u001b[0m\u001b[0;34m.\u001b[0m\u001b[0m_session\u001b[0m\u001b[0;34m,\u001b[0m \u001b[0mhandle\u001b[0m\u001b[0;34m,\u001b[0m \u001b[0mfeeds\u001b[0m\u001b[0;34m,\u001b[0m \u001b[0mfetches\u001b[0m\u001b[0;34m)\u001b[0m\u001b[0;34m\u001b[0m\u001b[0m\n",
      "\u001b[0;32m/home/albert/anaconda2/lib/python2.7/site-packages/tensorflow/python/client/session.pyc\u001b[0m in \u001b[0;36m_do_call\u001b[0;34m(self, fn, *args)\u001b[0m\n\u001b[1;32m   1338\u001b[0m         \u001b[0;32mexcept\u001b[0m \u001b[0mKeyError\u001b[0m\u001b[0;34m:\u001b[0m\u001b[0;34m\u001b[0m\u001b[0m\n\u001b[1;32m   1339\u001b[0m           \u001b[0;32mpass\u001b[0m\u001b[0;34m\u001b[0m\u001b[0m\n\u001b[0;32m-> 1340\u001b[0;31m       \u001b[0;32mraise\u001b[0m \u001b[0mtype\u001b[0m\u001b[0;34m(\u001b[0m\u001b[0me\u001b[0m\u001b[0;34m)\u001b[0m\u001b[0;34m(\u001b[0m\u001b[0mnode_def\u001b[0m\u001b[0;34m,\u001b[0m \u001b[0mop\u001b[0m\u001b[0;34m,\u001b[0m \u001b[0mmessage\u001b[0m\u001b[0;34m)\u001b[0m\u001b[0;34m\u001b[0m\u001b[0m\n\u001b[0m\u001b[1;32m   1341\u001b[0m \u001b[0;34m\u001b[0m\u001b[0m\n\u001b[1;32m   1342\u001b[0m   \u001b[0;32mdef\u001b[0m \u001b[0m_extend_graph\u001b[0m\u001b[0;34m(\u001b[0m\u001b[0mself\u001b[0m\u001b[0;34m)\u001b[0m\u001b[0;34m:\u001b[0m\u001b[0;34m\u001b[0m\u001b[0m\n",
      "\u001b[0;31mResourceExhaustedError\u001b[0m: OOM when allocating tensor with shape[24,1024,1024]\n\t [[Node: cam_output/transpose = Transpose[T=DT_FLOAT, Tperm=DT_INT32, _device=\"/job:localhost/replica:0/task:0/gpu:0\"](cam_output/StopGradient_2, cam_output/transpose/perm)]]\n\t [[Node: loss/add_62/_5479 = _Recv[client_terminated=false, recv_device=\"/job:localhost/replica:0/task:0/cpu:0\", send_device=\"/job:localhost/replica:0/task:0/gpu:0\", send_device_incarnation=1, tensor_name=\"edge_194603_loss/add_62\", tensor_type=DT_FLOAT, _device=\"/job:localhost/replica:0/task:0/cpu:0\"]()]]\n\nCaused by op u'cam_output/transpose', defined at:\n  File \"/home/albert/anaconda2/lib/python2.7/runpy.py\", line 174, in _run_module_as_main\n    \"__main__\", fname, loader, pkg_name)\n  File \"/home/albert/anaconda2/lib/python2.7/runpy.py\", line 72, in _run_code\n    exec code in run_globals\n  File \"/home/albert/anaconda2/lib/python2.7/site-packages/ipykernel_launcher.py\", line 16, in <module>\n    app.launch_new_instance()\n  File \"/home/albert/anaconda2/lib/python2.7/site-packages/traitlets/config/application.py\", line 658, in launch_instance\n    app.start()\n  File \"/home/albert/anaconda2/lib/python2.7/site-packages/ipykernel/kernelapp.py\", line 477, in start\n    ioloop.IOLoop.instance().start()\n  File \"/home/albert/anaconda2/lib/python2.7/site-packages/zmq/eventloop/ioloop.py\", line 177, in start\n    super(ZMQIOLoop, self).start()\n  File \"/home/albert/anaconda2/lib/python2.7/site-packages/tornado/ioloop.py\", line 888, in start\n    handler_func(fd_obj, events)\n  File \"/home/albert/anaconda2/lib/python2.7/site-packages/tornado/stack_context.py\", line 277, in null_wrapper\n    return fn(*args, **kwargs)\n  File \"/home/albert/anaconda2/lib/python2.7/site-packages/zmq/eventloop/zmqstream.py\", line 440, in _handle_events\n    self._handle_recv()\n  File \"/home/albert/anaconda2/lib/python2.7/site-packages/zmq/eventloop/zmqstream.py\", line 472, in _handle_recv\n    self._run_callback(callback, msg)\n  File \"/home/albert/anaconda2/lib/python2.7/site-packages/zmq/eventloop/zmqstream.py\", line 414, in _run_callback\n    callback(*args, **kwargs)\n  File \"/home/albert/anaconda2/lib/python2.7/site-packages/tornado/stack_context.py\", line 277, in null_wrapper\n    return fn(*args, **kwargs)\n  File \"/home/albert/anaconda2/lib/python2.7/site-packages/ipykernel/kernelbase.py\", line 283, in dispatcher\n    return self.dispatch_shell(stream, msg)\n  File \"/home/albert/anaconda2/lib/python2.7/site-packages/ipykernel/kernelbase.py\", line 235, in dispatch_shell\n    handler(stream, idents, msg)\n  File \"/home/albert/anaconda2/lib/python2.7/site-packages/ipykernel/kernelbase.py\", line 399, in execute_request\n    user_expressions, allow_stdin)\n  File \"/home/albert/anaconda2/lib/python2.7/site-packages/ipykernel/ipkernel.py\", line 196, in do_execute\n    res = shell.run_cell(code, store_history=store_history, silent=silent)\n  File \"/home/albert/anaconda2/lib/python2.7/site-packages/ipykernel/zmqshell.py\", line 533, in run_cell\n    return super(ZMQInteractiveShell, self).run_cell(*args, **kwargs)\n  File \"/home/albert/anaconda2/lib/python2.7/site-packages/IPython/core/interactiveshell.py\", line 2717, in run_cell\n    interactivity=interactivity, compiler=compiler, result=result)\n  File \"/home/albert/anaconda2/lib/python2.7/site-packages/IPython/core/interactiveshell.py\", line 2821, in run_ast_nodes\n    if self.run_code(code, result):\n  File \"/home/albert/anaconda2/lib/python2.7/site-packages/IPython/core/interactiveshell.py\", line 2881, in run_code\n    exec(code_obj, self.user_global_ns, self.user_ns)\n  File \"<ipython-input-10-59875dab7ce6>\", line 1, in <module>\n    camnet = models.SPN(P_param,K_param, weights='imagenet', reduce_dim=True, pool_dim=16)\n  File \"/home/albert/github/tensorflow/src/models.py\", line 143, in SPN\n    cam_output = Lambda(cam, name='cam_output', arguments={'P' : P_param, 'K' : K_param})(base.layers[-2].output)\n  File \"/home/albert/anaconda2/lib/python2.7/site-packages/keras/engine/topology.py\", line 602, in __call__\n    output = self.call(inputs, **kwargs)\n  File \"/home/albert/anaconda2/lib/python2.7/site-packages/keras/layers/core.py\", line 650, in call\n    return self.function(inputs, **arguments)\n  File \"<string>\", line 9, in cam\n  File \"/home/albert/github/tensorflow/src/models.py\", line 34, in svd\n    Ui, Vti = map(tf.matrix_inverse, [U0, tf.transpose(V0, (0, 2, 1))])\n  File \"/home/albert/anaconda2/lib/python2.7/site-packages/tensorflow/python/ops/array_ops.py\", line 1303, in transpose\n    ret = gen_array_ops.transpose(a, perm, name=name)\n  File \"/home/albert/anaconda2/lib/python2.7/site-packages/tensorflow/python/ops/gen_array_ops.py\", line 3887, in transpose\n    result = _op_def_lib.apply_op(\"Transpose\", x=x, perm=perm, name=name)\n  File \"/home/albert/anaconda2/lib/python2.7/site-packages/tensorflow/python/framework/op_def_library.py\", line 767, in apply_op\n    op_def=op_def)\n  File \"/home/albert/anaconda2/lib/python2.7/site-packages/tensorflow/python/framework/ops.py\", line 2630, in create_op\n    original_op=self._default_original_op, op_def=op_def)\n  File \"/home/albert/anaconda2/lib/python2.7/site-packages/tensorflow/python/framework/ops.py\", line 1204, in __init__\n    self._traceback = self._graph._extract_stack()  # pylint: disable=protected-access\n\nResourceExhaustedError (see above for traceback): OOM when allocating tensor with shape[24,1024,1024]\n\t [[Node: cam_output/transpose = Transpose[T=DT_FLOAT, Tperm=DT_INT32, _device=\"/job:localhost/replica:0/task:0/gpu:0\"](cam_output/StopGradient_2, cam_output/transpose/perm)]]\n\t [[Node: loss/add_62/_5479 = _Recv[client_terminated=false, recv_device=\"/job:localhost/replica:0/task:0/cpu:0\", send_device=\"/job:localhost/replica:0/task:0/gpu:0\", send_device_incarnation=1, tensor_name=\"edge_194603_loss/add_62\", tensor_type=DT_FLOAT, _device=\"/job:localhost/replica:0/task:0/cpu:0\"]()]]\n"
     ]
    }
   ],
   "source": [
    "for era in range(1,16):\n",
    "    iterations = era * steps_per_epoch * epochs\n",
    "    exec(step_decay_cont_str % (epochs, era))\n",
    "    lrate = LearningRateScheduler(step_decay_cont)\n",
    "    \n",
    "    camnet.fit_generator(data.output_batch_generator(train_dict, P=P_param, K=K_param, preprocess=True,\n",
    "                                    shape=(256,128), keypoints=['Neck'], \n",
    "                                    cam_output_dim=(8,4), rect=False), \n",
    "                         steps_per_epoch=steps_per_epoch,\n",
    "                         epochs=epochs,\n",
    "                         callbacks=[lrate, history, loss])\n",
    "    \n",
    "    file_name = file_root + '_' + str(iterations) + '.npy'\n",
    "    np.save('/home/albert/github/tensorflow/models/%s/%s' % (file_root, file_name), camnet.get_weights())\n",
    "    \n",
    "    camnet_test = models.load_model('/home/albert/github/tensorflow/pre/pre3/models/densenet_triplet/densenet_triplet.json',\n",
    "                                    weights_file='/home/albert/github/tensorflow/models/%s/%s' % (file_root, file_name))\n",
    "    train_score[iterations] = evaluation.get_score(camnet_test, hist=history, preprocess=preprocess, cover=True)\n",
    "    \n",
    "    hist['loss'] += loss.loss\n",
    "    hist['final_output_loss'] += loss.final_output_loss\n",
    "    hist['cam_output_loss'] += loss.cam_output_loss\n",
    "    \n",
    "    print iterations, train_score[iterations]"
   ]
  },
  {
   "cell_type": "code",
   "execution_count": null,
   "metadata": {
    "collapsed": true
   },
   "outputs": [],
   "source": [
    "np.savez('/home/albert/github/tensorflow/models/%s/%s_hist.npz' % (file_root, file_root), hist)\n",
    "np.savez('/home/albert/github/tensorflow/models/%s/%s_score.npz' % (file_root, file_root), train_score)"
   ]
  },
  {
   "cell_type": "markdown",
   "metadata": {},
   "source": [
    "### Evaluation"
   ]
  },
  {
   "cell_type": "code",
   "execution_count": null,
   "metadata": {
    "collapsed": true
   },
   "outputs": [],
   "source": [
    "evaluation.plot_rank('densenet_cam', ylim_0=0.0)"
   ]
  },
  {
   "cell_type": "code",
   "execution_count": null,
   "metadata": {
    "collapsed": true
   },
   "outputs": [],
   "source": [
    "evaluation.plot_loss('densenet_cam')"
   ]
  },
  {
   "cell_type": "code",
   "execution_count": null,
   "metadata": {
    "collapsed": true
   },
   "outputs": [],
   "source": [
    "evaluation.plot_rank('densenet_triplet_front', ylim_0=0.0)"
   ]
  },
  {
   "cell_type": "code",
   "execution_count": 8,
   "metadata": {},
   "outputs": [
    {
     "name": "stdout",
     "output_type": "stream",
     "text": [
      "1000 20.6686990261\n",
      "2000 40.3949911594\n",
      "3000 60.1019210815\n",
      "4000 79.8246071339\n",
      "5000 99.5405440331\n",
      "6000 119.280346155\n",
      "7000 138.993336201\n",
      "8000 158.730307102\n",
      "9000 178.443063021\n",
      "10000 198.169032097\n",
      "11000 217.901036978\n",
      "12000 237.653652191\n",
      "13000 257.374266148\n",
      "14000 277.097077131\n",
      "15000 296.86184001\n",
      "16000 316.589483023\n",
      "17000 336.781181097\n",
      "18000 356.553630114\n",
      "19000 376.308152199\n",
      "1000 19.8702180386\n",
      "2000 39.6272890568\n",
      "3000 59.3980958462\n",
      "{'mAP': 0.17919423923538461, 'rank': [0.3429334916864608, 0.5997624703087886, 0.7859263657957245], 'loss': []}\n",
      "1000 20.5567860603\n",
      "2000 40.6670911312\n",
      "3000 60.7555811405\n",
      "4000 80.8236150742\n",
      "5000 100.933171988\n",
      "6000 121.046454191\n",
      "7000 141.160888195\n",
      "8000 161.285268068\n",
      "9000 181.392488003\n",
      "10000 201.605148077\n",
      "11000 221.724953175\n",
      "12000 241.833297014\n",
      "13000 261.950154066\n",
      "14000 282.078711033\n",
      "15000 302.191223145\n",
      "16000 322.314953089\n",
      "17000 342.420742035\n",
      "18000 362.542497158\n",
      "19000 382.657455206\n",
      "1000 20.1198179722\n",
      "2000 40.2403609753\n",
      "3000 60.3595268726\n",
      "{'mAP': 0.18219040524056593, 'rank': [0.35065320665083133, 0.6077790973871734, 0.78770783847981], 'loss': []}\n",
      "1000 20.9393780231\n",
      "2000 41.2956500053\n",
      "3000 61.6676259041\n",
      "4000 82.0309209824\n",
      "5000 102.398097038\n",
      "6000 122.778315067\n",
      "7000 143.159951925\n",
      "8000 163.542727947\n",
      "9000 183.917233944\n",
      "10000 204.292220116\n",
      "11000 224.660197973\n",
      "12000 245.043065071\n",
      "13000 265.414073944\n",
      "14000 285.792222023\n",
      "15000 306.16106391\n",
      "16000 326.531668901\n",
      "17000 346.900901079\n",
      "18000 367.277889013\n",
      "19000 387.661962986\n",
      "1000 20.3753790855\n",
      "2000 40.7548348904\n",
      "3000 61.1358258724\n",
      "{'mAP': 0.18813274888484985, 'rank': [0.37084323040380046, 0.6154988123515439, 0.8022565320665083], 'loss': []}\n"
     ]
    }
   ],
   "source": [
    "for it in range(2000,5000,1000):\n",
    "    # file_root = 'densenet_triplet_block_neck_on'\n",
    "    file_name = file_root + '_' + str(it) + '.npy'\n",
    "    camnet_test = models.load_model('/home/albert/github/tensorflow/pre/pre3/models/densenet_triplet/densenet_triplet.json',\n",
    "                                            weights_file='/home/albert/github/tensorflow/models/%s/%s' % (file_root, file_name))\n",
    "    s = evaluation.get_score(camnet_test, hist=None, preprocess=preprocess, cover=False)\n",
    "    print s"
   ]
  },
  {
   "cell_type": "code",
   "execution_count": null,
   "metadata": {
    "collapsed": true
   },
   "outputs": [],
   "source": []
  }
 ],
 "metadata": {
  "kernelspec": {
   "display_name": "Python 2",
   "language": "python",
   "name": "python2"
  },
  "language_info": {
   "codemirror_mode": {
    "name": "ipython",
    "version": 2
   },
   "file_extension": ".py",
   "mimetype": "text/x-python",
   "name": "python",
   "nbconvert_exporter": "python",
   "pygments_lexer": "ipython2",
   "version": "2.7.13"
  }
 },
 "nbformat": 4,
 "nbformat_minor": 2
}
