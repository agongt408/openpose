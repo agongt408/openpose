{
 "cells": [
  {
   "cell_type": "code",
   "execution_count": 1,
   "metadata": {},
   "outputs": [
    {
     "name": "stderr",
     "output_type": "stream",
     "text": [
      "Using TensorFlow backend.\n"
     ]
    }
   ],
   "source": [
    "import numpy as np\n",
    "from scipy import misc\n",
    "import pprint as pp\n",
    "import os\n",
    "import cv2\n",
    "import matplotlib.pyplot as plt\n",
    "%matplotlib inline\n",
    "\n",
    "import tensorflow as tf\n",
    "from keras.datasets import mnist\n",
    "from keras.models import Sequential\n",
    "from keras.models import Model\n",
    "from keras.models import load_model\n",
    "from keras.layers import Dense, Dropout, Activation, Flatten\n",
    "from keras.layers import Convolution2D, MaxPooling2D\n",
    "from keras.layers.normalization import BatchNormalization\n",
    "from keras.utils import np_utils\n",
    "from keras.applications.resnet50 import ResNet50\n",
    "from keras.optimizers import Adam\n",
    "from keras import backend as Keras"
   ]
  },
  {
   "cell_type": "markdown",
   "metadata": {},
   "source": [
    "### Mine Triplets"
   ]
  },
  {
   "cell_type": "code",
   "execution_count": 2,
   "metadata": {
    "collapsed": true
   },
   "outputs": [],
   "source": [
    "CAFFE_ROOT = '/home/albert/caffe/'\n",
    "img_dir = os.listdir(CAFFE_ROOT + 'data/market-1501/bounding_box_train')"
   ]
  },
  {
   "cell_type": "code",
   "execution_count": 3,
   "metadata": {
    "collapsed": true
   },
   "outputs": [],
   "source": [
    "train_files = {}\n",
    "train_arr = []\n",
    "labels = []\n",
    "\n",
    "for f in img_dir:\n",
    "    if f[-4:] == '.jpg':\n",
    "        idt = int(f[0:f.index('_')])\n",
    "        if not any(idt == l for l in labels):\n",
    "            labels.append(idt)\n",
    "            train_files[idt] = []\n",
    "        path = CAFFE_ROOT + 'data/market-1501/bounding_box_train/' + f\n",
    "        train_files[idt].append(path)\n",
    "        train_arr.append([path, idt])\n",
    "\n",
    "labels.sort()"
   ]
  },
  {
   "cell_type": "code",
   "execution_count": 4,
   "metadata": {
    "collapsed": true
   },
   "outputs": [],
   "source": [
    "def batch_generator(train_files, labels, P=18, K=4):\n",
    "    while True:\n",
    "        batch = []\n",
    "        idt_choice = np.random.choice(labels, P, replace=False)\n",
    "        for p in range(len(idt_choice)):\n",
    "#             batch.append([])\n",
    "            k_choice = np.random.choice(range(len(train_files[idt_choice[p]])), K, replace=True)\n",
    "            for k in k_choice:\n",
    "                path = train_files[idt_choice[p]][k]\n",
    "                img = cv2.resize(misc.imread(path), (224, 224))\n",
    "                batch.append(img.tolist())\n",
    "        yield(batch)"
   ]
  },
  {
   "cell_type": "code",
   "execution_count": 5,
   "metadata": {
    "collapsed": true
   },
   "outputs": [],
   "source": [
    "# generator = batch_generator(train_files, labels)\n",
    "# batch = generator.next()\n",
    "# batch = np.array(batch, dtype=np.uint8)\n",
    "\n",
    "# plt.figure(figsize=(8,10))\n",
    "# t = 0\n",
    "# for idt in range(20):\n",
    "#     t += 1\n",
    "#     plt.subplot(5, 4, t)\n",
    "#     plt.imshow(batch[idt])\n",
    "# plt.show()"
   ]
  },
  {
   "cell_type": "markdown",
   "metadata": {},
   "source": [
    "### Train Network"
   ]
  },
  {
   "cell_type": "code",
   "execution_count": 6,
   "metadata": {
    "collapsed": true
   },
   "outputs": [],
   "source": [
    "# Number of identities\n",
    "P_param = 5\n",
    "# Number of images per identity\n",
    "K_param = 4"
   ]
  },
  {
   "cell_type": "code",
   "execution_count": 7,
   "metadata": {
    "collapsed": true
   },
   "outputs": [],
   "source": [
    "def output_batch_generator(train_files, labels, P=P_param, K=K_param):\n",
    "    while True:\n",
    "        batch = []\n",
    "        idt_choice = np.random.choice(labels, P, replace=False)\n",
    "        for p in range(len(idt_choice)):\n",
    "            # n_choose = np.minimum(K, len(train_files[idt_choice[p]]))\n",
    "            k_choice = np.random.choice(range(len(train_files[idt_choice[p]])), K, replace=True)\n",
    "            for k in k_choice:\n",
    "                path = train_files[idt_choice[p]][k]\n",
    "                img = cv2.resize(misc.imread(path), (224, 224))\n",
    "                batch.append(img.tolist())\n",
    "        output = np.array(batch)\n",
    "        yield(output, np.zeros((output.shape[0], output.shape[1], output.shape[2], 1)))"
   ]
  },
  {
   "cell_type": "code",
   "execution_count": 8,
   "metadata": {
    "collapsed": true
   },
   "outputs": [],
   "source": [
    "def log1p(x):\n",
    "    return Keras.log(1 + Keras.exp(x))"
   ]
  },
  {
   "cell_type": "code",
   "execution_count": 9,
   "metadata": {
    "collapsed": true
   },
   "outputs": [],
   "source": [
    "def dist(x1, x2):\n",
    "    return Keras.sum(Keras.abs(x1 - x2))"
   ]
  },
  {
   "cell_type": "code",
   "execution_count": 10,
   "metadata": {
    "collapsed": true
   },
   "outputs": [],
   "source": [
    "def triplet_loss(y_true, y_pred, margin=0.1, P=P_param, K=K_param, output_dim = 128):\n",
    "    embeddings = Keras.reshape(y_pred, (-1, output_dim))\n",
    "\n",
    "    loss = tf.Variable(1, dtype=tf.float32)\n",
    "\n",
    "    for i in range(P):\n",
    "        for a in range(K):\n",
    "            pred_anchor = embeddings[i*K + a]\n",
    "            hard_pos = Keras.max(dist(pred_anchor, embeddings[i*K:(i + 1)*K]))\n",
    "            hard_neg = Keras.min(dist(pred_anchor, Keras.concatenate([embeddings[0:i*K],\n",
    "                                                                      embeddings[(i + 1)*K:]], 0)))\n",
    "            loss += log1p(hard_pos - hard_neg)\n",
    "    return loss"
   ]
  },
  {
   "cell_type": "code",
   "execution_count": 37,
   "metadata": {
    "collapsed": true
   },
   "outputs": [],
   "source": [
    "def evaluate_rank(net, rank, all_embeddings, all_identities, test_iter=1000):\n",
    "    correct = 0\n",
    "    f_choice = np.random.choice(range(len(train_arr)), np.minimum(test_iter, len(train_arr)), replace=False)\n",
    "    for f in f_choice:\n",
    "        query_img = cv2.resize(misc.imread(train_arr[f][0]), (224,224))\n",
    "        query_embedding = net.predict(query_img.reshape(1, 224, 224, 3))\n",
    "        distance_vectors = np.squeeze(np.abs(all_embeddings - query_embedding))\n",
    "        distance = np.sum(distance_vectors, axis=1)\n",
    "        top_inds = distance.argsort()[:rank+1]\n",
    "        output_classes = np.array(all_identities)[top_inds].astype(np.uint16)\n",
    "        \n",
    "#         pp.pprint(zip(distance[top_inds], np.array(all_identities)[top_inds].astype(np.uint16)))\n",
    "        \n",
    "        i = 0\n",
    "        for c in output_classes:\n",
    "            if c == int(train_arr[f][1]):\n",
    "                i += 1\n",
    "        if i > 1:\n",
    "            correct += 1\n",
    "#         print(correct)\n",
    "    return float(correct)/test_iter"
   ]
  },
  {
   "cell_type": "markdown",
   "metadata": {},
   "source": [
    "According to the triplet loss paper, use an adaptive learning rate decay that is constant at first, then decays exponentially."
   ]
  },
  {
   "cell_type": "code",
   "execution_count": 12,
   "metadata": {
    "collapsed": true
   },
   "outputs": [],
   "source": [
    "# https://medium.com/towards-data-science/learning-rate-schedules-and-adaptive-learning-rate-methods-for-deep-learning-2c8f433990d1\n",
    "from keras.callbacks import LearningRateScheduler\n",
    "\n",
    "def exp_decay(epoch):\n",
    "    initial_lr = 0.0003\n",
    "    t_0 = 0\n",
    "#     t_1 = 25000\n",
    "    if epoch <= t_0:\n",
    "        return initial_lr\n",
    "    elif epoch > t_0:\n",
    "        return initial_lr * 0.001 ** (epoch/100)\n",
    "\n",
    "lrate = LearningRateScheduler(exp_decay)"
   ]
  },
  {
   "cell_type": "code",
   "execution_count": 13,
   "metadata": {
    "collapsed": true
   },
   "outputs": [],
   "source": [
    "score_arr = []"
   ]
  },
  {
   "cell_type": "markdown",
   "metadata": {},
   "source": [
    "Replace top layer of ResNet with a FC layer (1024) with batch normalization and ReLU and a FC layer (128). Train with all layers as learnable for 50 epochs with learning rate decay 1e-6."
   ]
  },
  {
   "cell_type": "code",
   "execution_count": 14,
   "metadata": {
    "collapsed": true
   },
   "outputs": [],
   "source": [
    "# https://keras.io/applications/#fine-tune-inceptionv3-on-a-new-set-of-classes\n",
    "i = 0\n",
    "# for epochs in range(10, 20, 10):\n",
    "base_model = ResNet50(weights='imagenet', include_top=False)\n",
    "x = base_model.output\n",
    "x = Dense(1024)(x)\n",
    "x = BatchNormalization()(x)\n",
    "x = Activation('relu')(x)\n",
    "predictions = Dense(128)(x)\n",
    "\n",
    "trinet = Model(inputs=base_model.input, outputs=predictions)\n",
    "\n",
    "trinet.compile(loss=triplet_loss, optimizer=Adam(lr=0.0003, beta_1=0.9, beta_2=0.999, epsilon=1e-08, decay=0.0))"
   ]
  },
  {
   "cell_type": "code",
   "execution_count": 15,
   "metadata": {
    "collapsed": true
   },
   "outputs": [],
   "source": [
    "for layer in trinet.layers:\n",
    "    layer.trainable = True"
   ]
  },
  {
   "cell_type": "code",
   "execution_count": 16,
   "metadata": {},
   "outputs": [
    {
     "name": "stdout",
     "output_type": "stream",
     "text": [
      "____________________________________________________________________________________________________\n",
      "Layer (type)                     Output Shape          Param #     Connected to                     \n",
      "====================================================================================================\n",
      "input_1 (InputLayer)             (None, None, None, 3) 0                                            \n",
      "____________________________________________________________________________________________________\n",
      "conv1 (Conv2D)                   (None, None, None, 64 9472        input_1[0][0]                    \n",
      "____________________________________________________________________________________________________\n",
      "bn_conv1 (BatchNormalization)    (None, None, None, 64 256         conv1[0][0]                      \n",
      "____________________________________________________________________________________________________\n",
      "activation_1 (Activation)        (None, None, None, 64 0           bn_conv1[0][0]                   \n",
      "____________________________________________________________________________________________________\n",
      "max_pooling2d_1 (MaxPooling2D)   (None, None, None, 64 0           activation_1[0][0]               \n",
      "____________________________________________________________________________________________________\n",
      "res2a_branch2a (Conv2D)          (None, None, None, 64 4160        max_pooling2d_1[0][0]            \n",
      "____________________________________________________________________________________________________\n",
      "bn2a_branch2a (BatchNormalizatio (None, None, None, 64 256         res2a_branch2a[0][0]             \n",
      "____________________________________________________________________________________________________\n",
      "activation_2 (Activation)        (None, None, None, 64 0           bn2a_branch2a[0][0]              \n",
      "____________________________________________________________________________________________________\n",
      "res2a_branch2b (Conv2D)          (None, None, None, 64 36928       activation_2[0][0]               \n",
      "____________________________________________________________________________________________________\n",
      "bn2a_branch2b (BatchNormalizatio (None, None, None, 64 256         res2a_branch2b[0][0]             \n",
      "____________________________________________________________________________________________________\n",
      "activation_3 (Activation)        (None, None, None, 64 0           bn2a_branch2b[0][0]              \n",
      "____________________________________________________________________________________________________\n",
      "res2a_branch2c (Conv2D)          (None, None, None, 25 16640       activation_3[0][0]               \n",
      "____________________________________________________________________________________________________\n",
      "res2a_branch1 (Conv2D)           (None, None, None, 25 16640       max_pooling2d_1[0][0]            \n",
      "____________________________________________________________________________________________________\n",
      "bn2a_branch2c (BatchNormalizatio (None, None, None, 25 1024        res2a_branch2c[0][0]             \n",
      "____________________________________________________________________________________________________\n",
      "bn2a_branch1 (BatchNormalization (None, None, None, 25 1024        res2a_branch1[0][0]              \n",
      "____________________________________________________________________________________________________\n",
      "add_1 (Add)                      (None, None, None, 25 0           bn2a_branch2c[0][0]              \n",
      "                                                                   bn2a_branch1[0][0]               \n",
      "____________________________________________________________________________________________________\n",
      "activation_4 (Activation)        (None, None, None, 25 0           add_1[0][0]                      \n",
      "____________________________________________________________________________________________________\n",
      "res2b_branch2a (Conv2D)          (None, None, None, 64 16448       activation_4[0][0]               \n",
      "____________________________________________________________________________________________________\n",
      "bn2b_branch2a (BatchNormalizatio (None, None, None, 64 256         res2b_branch2a[0][0]             \n",
      "____________________________________________________________________________________________________\n",
      "activation_5 (Activation)        (None, None, None, 64 0           bn2b_branch2a[0][0]              \n",
      "____________________________________________________________________________________________________\n",
      "res2b_branch2b (Conv2D)          (None, None, None, 64 36928       activation_5[0][0]               \n",
      "____________________________________________________________________________________________________\n",
      "bn2b_branch2b (BatchNormalizatio (None, None, None, 64 256         res2b_branch2b[0][0]             \n",
      "____________________________________________________________________________________________________\n",
      "activation_6 (Activation)        (None, None, None, 64 0           bn2b_branch2b[0][0]              \n",
      "____________________________________________________________________________________________________\n",
      "res2b_branch2c (Conv2D)          (None, None, None, 25 16640       activation_6[0][0]               \n",
      "____________________________________________________________________________________________________\n",
      "bn2b_branch2c (BatchNormalizatio (None, None, None, 25 1024        res2b_branch2c[0][0]             \n",
      "____________________________________________________________________________________________________\n",
      "add_2 (Add)                      (None, None, None, 25 0           bn2b_branch2c[0][0]              \n",
      "                                                                   activation_4[0][0]               \n",
      "____________________________________________________________________________________________________\n",
      "activation_7 (Activation)        (None, None, None, 25 0           add_2[0][0]                      \n",
      "____________________________________________________________________________________________________\n",
      "res2c_branch2a (Conv2D)          (None, None, None, 64 16448       activation_7[0][0]               \n",
      "____________________________________________________________________________________________________\n",
      "bn2c_branch2a (BatchNormalizatio (None, None, None, 64 256         res2c_branch2a[0][0]             \n",
      "____________________________________________________________________________________________________\n",
      "activation_8 (Activation)        (None, None, None, 64 0           bn2c_branch2a[0][0]              \n",
      "____________________________________________________________________________________________________\n",
      "res2c_branch2b (Conv2D)          (None, None, None, 64 36928       activation_8[0][0]               \n",
      "____________________________________________________________________________________________________\n",
      "bn2c_branch2b (BatchNormalizatio (None, None, None, 64 256         res2c_branch2b[0][0]             \n",
      "____________________________________________________________________________________________________\n",
      "activation_9 (Activation)        (None, None, None, 64 0           bn2c_branch2b[0][0]              \n",
      "____________________________________________________________________________________________________\n",
      "res2c_branch2c (Conv2D)          (None, None, None, 25 16640       activation_9[0][0]               \n",
      "____________________________________________________________________________________________________\n",
      "bn2c_branch2c (BatchNormalizatio (None, None, None, 25 1024        res2c_branch2c[0][0]             \n",
      "____________________________________________________________________________________________________\n",
      "add_3 (Add)                      (None, None, None, 25 0           bn2c_branch2c[0][0]              \n",
      "                                                                   activation_7[0][0]               \n",
      "____________________________________________________________________________________________________\n",
      "activation_10 (Activation)       (None, None, None, 25 0           add_3[0][0]                      \n",
      "____________________________________________________________________________________________________\n",
      "res3a_branch2a (Conv2D)          (None, None, None, 12 32896       activation_10[0][0]              \n",
      "____________________________________________________________________________________________________\n",
      "bn3a_branch2a (BatchNormalizatio (None, None, None, 12 512         res3a_branch2a[0][0]             \n",
      "____________________________________________________________________________________________________\n",
      "activation_11 (Activation)       (None, None, None, 12 0           bn3a_branch2a[0][0]              \n",
      "____________________________________________________________________________________________________\n",
      "res3a_branch2b (Conv2D)          (None, None, None, 12 147584      activation_11[0][0]              \n",
      "____________________________________________________________________________________________________\n",
      "bn3a_branch2b (BatchNormalizatio (None, None, None, 12 512         res3a_branch2b[0][0]             \n",
      "____________________________________________________________________________________________________\n",
      "activation_12 (Activation)       (None, None, None, 12 0           bn3a_branch2b[0][0]              \n",
      "____________________________________________________________________________________________________\n",
      "res3a_branch2c (Conv2D)          (None, None, None, 51 66048       activation_12[0][0]              \n",
      "____________________________________________________________________________________________________\n",
      "res3a_branch1 (Conv2D)           (None, None, None, 51 131584      activation_10[0][0]              \n",
      "____________________________________________________________________________________________________\n",
      "bn3a_branch2c (BatchNormalizatio (None, None, None, 51 2048        res3a_branch2c[0][0]             \n",
      "____________________________________________________________________________________________________\n",
      "bn3a_branch1 (BatchNormalization (None, None, None, 51 2048        res3a_branch1[0][0]              \n",
      "____________________________________________________________________________________________________\n",
      "add_4 (Add)                      (None, None, None, 51 0           bn3a_branch2c[0][0]              \n",
      "                                                                   bn3a_branch1[0][0]               \n",
      "____________________________________________________________________________________________________\n",
      "activation_13 (Activation)       (None, None, None, 51 0           add_4[0][0]                      \n",
      "____________________________________________________________________________________________________\n",
      "res3b_branch2a (Conv2D)          (None, None, None, 12 65664       activation_13[0][0]              \n",
      "____________________________________________________________________________________________________\n",
      "bn3b_branch2a (BatchNormalizatio (None, None, None, 12 512         res3b_branch2a[0][0]             \n",
      "____________________________________________________________________________________________________\n",
      "activation_14 (Activation)       (None, None, None, 12 0           bn3b_branch2a[0][0]              \n",
      "____________________________________________________________________________________________________\n",
      "res3b_branch2b (Conv2D)          (None, None, None, 12 147584      activation_14[0][0]              \n",
      "____________________________________________________________________________________________________\n",
      "bn3b_branch2b (BatchNormalizatio (None, None, None, 12 512         res3b_branch2b[0][0]             \n",
      "____________________________________________________________________________________________________\n",
      "activation_15 (Activation)       (None, None, None, 12 0           bn3b_branch2b[0][0]              \n",
      "____________________________________________________________________________________________________\n",
      "res3b_branch2c (Conv2D)          (None, None, None, 51 66048       activation_15[0][0]              \n",
      "____________________________________________________________________________________________________\n",
      "bn3b_branch2c (BatchNormalizatio (None, None, None, 51 2048        res3b_branch2c[0][0]             \n",
      "____________________________________________________________________________________________________\n",
      "add_5 (Add)                      (None, None, None, 51 0           bn3b_branch2c[0][0]              \n",
      "                                                                   activation_13[0][0]              \n",
      "____________________________________________________________________________________________________\n",
      "activation_16 (Activation)       (None, None, None, 51 0           add_5[0][0]                      \n",
      "____________________________________________________________________________________________________\n",
      "res3c_branch2a (Conv2D)          (None, None, None, 12 65664       activation_16[0][0]              \n",
      "____________________________________________________________________________________________________\n",
      "bn3c_branch2a (BatchNormalizatio (None, None, None, 12 512         res3c_branch2a[0][0]             \n",
      "____________________________________________________________________________________________________\n",
      "activation_17 (Activation)       (None, None, None, 12 0           bn3c_branch2a[0][0]              \n",
      "____________________________________________________________________________________________________\n",
      "res3c_branch2b (Conv2D)          (None, None, None, 12 147584      activation_17[0][0]              \n",
      "____________________________________________________________________________________________________\n",
      "bn3c_branch2b (BatchNormalizatio (None, None, None, 12 512         res3c_branch2b[0][0]             \n",
      "____________________________________________________________________________________________________\n",
      "activation_18 (Activation)       (None, None, None, 12 0           bn3c_branch2b[0][0]              \n",
      "____________________________________________________________________________________________________\n",
      "res3c_branch2c (Conv2D)          (None, None, None, 51 66048       activation_18[0][0]              \n",
      "____________________________________________________________________________________________________\n",
      "bn3c_branch2c (BatchNormalizatio (None, None, None, 51 2048        res3c_branch2c[0][0]             \n",
      "____________________________________________________________________________________________________\n",
      "add_6 (Add)                      (None, None, None, 51 0           bn3c_branch2c[0][0]              \n",
      "                                                                   activation_16[0][0]              \n",
      "____________________________________________________________________________________________________\n",
      "activation_19 (Activation)       (None, None, None, 51 0           add_6[0][0]                      \n",
      "____________________________________________________________________________________________________\n",
      "res3d_branch2a (Conv2D)          (None, None, None, 12 65664       activation_19[0][0]              \n",
      "____________________________________________________________________________________________________\n",
      "bn3d_branch2a (BatchNormalizatio (None, None, None, 12 512         res3d_branch2a[0][0]             \n",
      "____________________________________________________________________________________________________\n",
      "activation_20 (Activation)       (None, None, None, 12 0           bn3d_branch2a[0][0]              \n",
      "____________________________________________________________________________________________________\n",
      "res3d_branch2b (Conv2D)          (None, None, None, 12 147584      activation_20[0][0]              \n",
      "____________________________________________________________________________________________________\n",
      "bn3d_branch2b (BatchNormalizatio (None, None, None, 12 512         res3d_branch2b[0][0]             \n",
      "____________________________________________________________________________________________________\n",
      "activation_21 (Activation)       (None, None, None, 12 0           bn3d_branch2b[0][0]              \n",
      "____________________________________________________________________________________________________\n",
      "res3d_branch2c (Conv2D)          (None, None, None, 51 66048       activation_21[0][0]              \n",
      "____________________________________________________________________________________________________\n",
      "bn3d_branch2c (BatchNormalizatio (None, None, None, 51 2048        res3d_branch2c[0][0]             \n",
      "____________________________________________________________________________________________________\n",
      "add_7 (Add)                      (None, None, None, 51 0           bn3d_branch2c[0][0]              \n",
      "                                                                   activation_19[0][0]              \n",
      "____________________________________________________________________________________________________\n",
      "activation_22 (Activation)       (None, None, None, 51 0           add_7[0][0]                      \n",
      "____________________________________________________________________________________________________\n",
      "res4a_branch2a (Conv2D)          (None, None, None, 25 131328      activation_22[0][0]              \n",
      "____________________________________________________________________________________________________\n",
      "bn4a_branch2a (BatchNormalizatio (None, None, None, 25 1024        res4a_branch2a[0][0]             \n",
      "____________________________________________________________________________________________________\n",
      "activation_23 (Activation)       (None, None, None, 25 0           bn4a_branch2a[0][0]              \n",
      "____________________________________________________________________________________________________\n",
      "res4a_branch2b (Conv2D)          (None, None, None, 25 590080      activation_23[0][0]              \n",
      "____________________________________________________________________________________________________\n",
      "bn4a_branch2b (BatchNormalizatio (None, None, None, 25 1024        res4a_branch2b[0][0]             \n",
      "____________________________________________________________________________________________________\n",
      "activation_24 (Activation)       (None, None, None, 25 0           bn4a_branch2b[0][0]              \n",
      "____________________________________________________________________________________________________\n",
      "res4a_branch2c (Conv2D)          (None, None, None, 10 263168      activation_24[0][0]              \n",
      "____________________________________________________________________________________________________\n",
      "res4a_branch1 (Conv2D)           (None, None, None, 10 525312      activation_22[0][0]              \n",
      "____________________________________________________________________________________________________\n",
      "bn4a_branch2c (BatchNormalizatio (None, None, None, 10 4096        res4a_branch2c[0][0]             \n",
      "____________________________________________________________________________________________________\n",
      "bn4a_branch1 (BatchNormalization (None, None, None, 10 4096        res4a_branch1[0][0]              \n",
      "____________________________________________________________________________________________________\n",
      "add_8 (Add)                      (None, None, None, 10 0           bn4a_branch2c[0][0]              \n",
      "                                                                   bn4a_branch1[0][0]               \n",
      "____________________________________________________________________________________________________\n",
      "activation_25 (Activation)       (None, None, None, 10 0           add_8[0][0]                      \n",
      "____________________________________________________________________________________________________\n",
      "res4b_branch2a (Conv2D)          (None, None, None, 25 262400      activation_25[0][0]              \n",
      "____________________________________________________________________________________________________\n",
      "bn4b_branch2a (BatchNormalizatio (None, None, None, 25 1024        res4b_branch2a[0][0]             \n",
      "____________________________________________________________________________________________________\n",
      "activation_26 (Activation)       (None, None, None, 25 0           bn4b_branch2a[0][0]              \n",
      "____________________________________________________________________________________________________\n",
      "res4b_branch2b (Conv2D)          (None, None, None, 25 590080      activation_26[0][0]              \n",
      "____________________________________________________________________________________________________\n",
      "bn4b_branch2b (BatchNormalizatio (None, None, None, 25 1024        res4b_branch2b[0][0]             \n",
      "____________________________________________________________________________________________________\n",
      "activation_27 (Activation)       (None, None, None, 25 0           bn4b_branch2b[0][0]              \n",
      "____________________________________________________________________________________________________\n",
      "res4b_branch2c (Conv2D)          (None, None, None, 10 263168      activation_27[0][0]              \n",
      "____________________________________________________________________________________________________\n",
      "bn4b_branch2c (BatchNormalizatio (None, None, None, 10 4096        res4b_branch2c[0][0]             \n",
      "____________________________________________________________________________________________________\n",
      "add_9 (Add)                      (None, None, None, 10 0           bn4b_branch2c[0][0]              \n",
      "                                                                   activation_25[0][0]              \n",
      "____________________________________________________________________________________________________\n",
      "activation_28 (Activation)       (None, None, None, 10 0           add_9[0][0]                      \n",
      "____________________________________________________________________________________________________\n",
      "res4c_branch2a (Conv2D)          (None, None, None, 25 262400      activation_28[0][0]              \n",
      "____________________________________________________________________________________________________\n",
      "bn4c_branch2a (BatchNormalizatio (None, None, None, 25 1024        res4c_branch2a[0][0]             \n",
      "____________________________________________________________________________________________________\n",
      "activation_29 (Activation)       (None, None, None, 25 0           bn4c_branch2a[0][0]              \n",
      "____________________________________________________________________________________________________\n",
      "res4c_branch2b (Conv2D)          (None, None, None, 25 590080      activation_29[0][0]              \n",
      "____________________________________________________________________________________________________\n",
      "bn4c_branch2b (BatchNormalizatio (None, None, None, 25 1024        res4c_branch2b[0][0]             \n",
      "____________________________________________________________________________________________________\n",
      "activation_30 (Activation)       (None, None, None, 25 0           bn4c_branch2b[0][0]              \n",
      "____________________________________________________________________________________________________\n",
      "res4c_branch2c (Conv2D)          (None, None, None, 10 263168      activation_30[0][0]              \n",
      "____________________________________________________________________________________________________\n",
      "bn4c_branch2c (BatchNormalizatio (None, None, None, 10 4096        res4c_branch2c[0][0]             \n",
      "____________________________________________________________________________________________________\n",
      "add_10 (Add)                     (None, None, None, 10 0           bn4c_branch2c[0][0]              \n",
      "                                                                   activation_28[0][0]              \n",
      "____________________________________________________________________________________________________\n",
      "activation_31 (Activation)       (None, None, None, 10 0           add_10[0][0]                     \n",
      "____________________________________________________________________________________________________\n",
      "res4d_branch2a (Conv2D)          (None, None, None, 25 262400      activation_31[0][0]              \n",
      "____________________________________________________________________________________________________\n",
      "bn4d_branch2a (BatchNormalizatio (None, None, None, 25 1024        res4d_branch2a[0][0]             \n",
      "____________________________________________________________________________________________________\n",
      "activation_32 (Activation)       (None, None, None, 25 0           bn4d_branch2a[0][0]              \n",
      "____________________________________________________________________________________________________\n",
      "res4d_branch2b (Conv2D)          (None, None, None, 25 590080      activation_32[0][0]              \n",
      "____________________________________________________________________________________________________\n",
      "bn4d_branch2b (BatchNormalizatio (None, None, None, 25 1024        res4d_branch2b[0][0]             \n",
      "____________________________________________________________________________________________________\n",
      "activation_33 (Activation)       (None, None, None, 25 0           bn4d_branch2b[0][0]              \n",
      "____________________________________________________________________________________________________\n",
      "res4d_branch2c (Conv2D)          (None, None, None, 10 263168      activation_33[0][0]              \n",
      "____________________________________________________________________________________________________\n",
      "bn4d_branch2c (BatchNormalizatio (None, None, None, 10 4096        res4d_branch2c[0][0]             \n",
      "____________________________________________________________________________________________________\n",
      "add_11 (Add)                     (None, None, None, 10 0           bn4d_branch2c[0][0]              \n",
      "                                                                   activation_31[0][0]              \n",
      "____________________________________________________________________________________________________\n",
      "activation_34 (Activation)       (None, None, None, 10 0           add_11[0][0]                     \n",
      "____________________________________________________________________________________________________\n",
      "res4e_branch2a (Conv2D)          (None, None, None, 25 262400      activation_34[0][0]              \n",
      "____________________________________________________________________________________________________\n",
      "bn4e_branch2a (BatchNormalizatio (None, None, None, 25 1024        res4e_branch2a[0][0]             \n",
      "____________________________________________________________________________________________________\n",
      "activation_35 (Activation)       (None, None, None, 25 0           bn4e_branch2a[0][0]              \n",
      "____________________________________________________________________________________________________\n",
      "res4e_branch2b (Conv2D)          (None, None, None, 25 590080      activation_35[0][0]              \n",
      "____________________________________________________________________________________________________\n",
      "bn4e_branch2b (BatchNormalizatio (None, None, None, 25 1024        res4e_branch2b[0][0]             \n",
      "____________________________________________________________________________________________________\n",
      "activation_36 (Activation)       (None, None, None, 25 0           bn4e_branch2b[0][0]              \n",
      "____________________________________________________________________________________________________\n",
      "res4e_branch2c (Conv2D)          (None, None, None, 10 263168      activation_36[0][0]              \n",
      "____________________________________________________________________________________________________\n",
      "bn4e_branch2c (BatchNormalizatio (None, None, None, 10 4096        res4e_branch2c[0][0]             \n",
      "____________________________________________________________________________________________________\n",
      "add_12 (Add)                     (None, None, None, 10 0           bn4e_branch2c[0][0]              \n",
      "                                                                   activation_34[0][0]              \n",
      "____________________________________________________________________________________________________\n",
      "activation_37 (Activation)       (None, None, None, 10 0           add_12[0][0]                     \n",
      "____________________________________________________________________________________________________\n",
      "res4f_branch2a (Conv2D)          (None, None, None, 25 262400      activation_37[0][0]              \n",
      "____________________________________________________________________________________________________\n",
      "bn4f_branch2a (BatchNormalizatio (None, None, None, 25 1024        res4f_branch2a[0][0]             \n",
      "____________________________________________________________________________________________________\n",
      "activation_38 (Activation)       (None, None, None, 25 0           bn4f_branch2a[0][0]              \n",
      "____________________________________________________________________________________________________\n",
      "res4f_branch2b (Conv2D)          (None, None, None, 25 590080      activation_38[0][0]              \n",
      "____________________________________________________________________________________________________\n",
      "bn4f_branch2b (BatchNormalizatio (None, None, None, 25 1024        res4f_branch2b[0][0]             \n",
      "____________________________________________________________________________________________________\n",
      "activation_39 (Activation)       (None, None, None, 25 0           bn4f_branch2b[0][0]              \n",
      "____________________________________________________________________________________________________\n",
      "res4f_branch2c (Conv2D)          (None, None, None, 10 263168      activation_39[0][0]              \n",
      "____________________________________________________________________________________________________\n",
      "bn4f_branch2c (BatchNormalizatio (None, None, None, 10 4096        res4f_branch2c[0][0]             \n",
      "____________________________________________________________________________________________________\n",
      "add_13 (Add)                     (None, None, None, 10 0           bn4f_branch2c[0][0]              \n",
      "                                                                   activation_37[0][0]              \n",
      "____________________________________________________________________________________________________\n",
      "activation_40 (Activation)       (None, None, None, 10 0           add_13[0][0]                     \n",
      "____________________________________________________________________________________________________\n",
      "res5a_branch2a (Conv2D)          (None, None, None, 51 524800      activation_40[0][0]              \n",
      "____________________________________________________________________________________________________\n",
      "bn5a_branch2a (BatchNormalizatio (None, None, None, 51 2048        res5a_branch2a[0][0]             \n",
      "____________________________________________________________________________________________________\n",
      "activation_41 (Activation)       (None, None, None, 51 0           bn5a_branch2a[0][0]              \n",
      "____________________________________________________________________________________________________\n",
      "res5a_branch2b (Conv2D)          (None, None, None, 51 2359808     activation_41[0][0]              \n",
      "____________________________________________________________________________________________________\n",
      "bn5a_branch2b (BatchNormalizatio (None, None, None, 51 2048        res5a_branch2b[0][0]             \n",
      "____________________________________________________________________________________________________\n",
      "activation_42 (Activation)       (None, None, None, 51 0           bn5a_branch2b[0][0]              \n",
      "____________________________________________________________________________________________________\n",
      "res5a_branch2c (Conv2D)          (None, None, None, 20 1050624     activation_42[0][0]              \n",
      "____________________________________________________________________________________________________\n",
      "res5a_branch1 (Conv2D)           (None, None, None, 20 2099200     activation_40[0][0]              \n",
      "____________________________________________________________________________________________________\n",
      "bn5a_branch2c (BatchNormalizatio (None, None, None, 20 8192        res5a_branch2c[0][0]             \n",
      "____________________________________________________________________________________________________\n",
      "bn5a_branch1 (BatchNormalization (None, None, None, 20 8192        res5a_branch1[0][0]              \n",
      "____________________________________________________________________________________________________\n",
      "add_14 (Add)                     (None, None, None, 20 0           bn5a_branch2c[0][0]              \n",
      "                                                                   bn5a_branch1[0][0]               \n",
      "____________________________________________________________________________________________________\n",
      "activation_43 (Activation)       (None, None, None, 20 0           add_14[0][0]                     \n",
      "____________________________________________________________________________________________________\n",
      "res5b_branch2a (Conv2D)          (None, None, None, 51 1049088     activation_43[0][0]              \n",
      "____________________________________________________________________________________________________\n",
      "bn5b_branch2a (BatchNormalizatio (None, None, None, 51 2048        res5b_branch2a[0][0]             \n",
      "____________________________________________________________________________________________________\n",
      "activation_44 (Activation)       (None, None, None, 51 0           bn5b_branch2a[0][0]              \n",
      "____________________________________________________________________________________________________\n",
      "res5b_branch2b (Conv2D)          (None, None, None, 51 2359808     activation_44[0][0]              \n",
      "____________________________________________________________________________________________________\n",
      "bn5b_branch2b (BatchNormalizatio (None, None, None, 51 2048        res5b_branch2b[0][0]             \n",
      "____________________________________________________________________________________________________\n",
      "activation_45 (Activation)       (None, None, None, 51 0           bn5b_branch2b[0][0]              \n",
      "____________________________________________________________________________________________________\n",
      "res5b_branch2c (Conv2D)          (None, None, None, 20 1050624     activation_45[0][0]              \n",
      "____________________________________________________________________________________________________\n",
      "bn5b_branch2c (BatchNormalizatio (None, None, None, 20 8192        res5b_branch2c[0][0]             \n",
      "____________________________________________________________________________________________________\n",
      "add_15 (Add)                     (None, None, None, 20 0           bn5b_branch2c[0][0]              \n",
      "                                                                   activation_43[0][0]              \n",
      "____________________________________________________________________________________________________\n",
      "activation_46 (Activation)       (None, None, None, 20 0           add_15[0][0]                     \n",
      "____________________________________________________________________________________________________\n",
      "res5c_branch2a (Conv2D)          (None, None, None, 51 1049088     activation_46[0][0]              \n",
      "____________________________________________________________________________________________________\n",
      "bn5c_branch2a (BatchNormalizatio (None, None, None, 51 2048        res5c_branch2a[0][0]             \n",
      "____________________________________________________________________________________________________\n",
      "activation_47 (Activation)       (None, None, None, 51 0           bn5c_branch2a[0][0]              \n",
      "____________________________________________________________________________________________________\n",
      "res5c_branch2b (Conv2D)          (None, None, None, 51 2359808     activation_47[0][0]              \n",
      "____________________________________________________________________________________________________\n",
      "bn5c_branch2b (BatchNormalizatio (None, None, None, 51 2048        res5c_branch2b[0][0]             \n",
      "____________________________________________________________________________________________________\n",
      "activation_48 (Activation)       (None, None, None, 51 0           bn5c_branch2b[0][0]              \n",
      "____________________________________________________________________________________________________\n",
      "res5c_branch2c (Conv2D)          (None, None, None, 20 1050624     activation_48[0][0]              \n",
      "____________________________________________________________________________________________________\n",
      "bn5c_branch2c (BatchNormalizatio (None, None, None, 20 8192        res5c_branch2c[0][0]             \n",
      "____________________________________________________________________________________________________\n",
      "add_16 (Add)                     (None, None, None, 20 0           bn5c_branch2c[0][0]              \n",
      "                                                                   activation_46[0][0]              \n",
      "____________________________________________________________________________________________________\n",
      "activation_49 (Activation)       (None, None, None, 20 0           add_16[0][0]                     \n",
      "____________________________________________________________________________________________________\n",
      "avg_pool (AveragePooling2D)      (None, None, None, 20 0           activation_49[0][0]              \n",
      "____________________________________________________________________________________________________\n",
      "dense_1 (Dense)                  (None, None, None, 10 2098176     avg_pool[0][0]                   \n",
      "____________________________________________________________________________________________________\n",
      "batch_normalization_1 (BatchNorm (None, None, None, 10 4096        dense_1[0][0]                    \n",
      "____________________________________________________________________________________________________\n",
      "activation_50 (Activation)       (None, None, None, 10 0           batch_normalization_1[0][0]      \n",
      "____________________________________________________________________________________________________\n",
      "dense_2 (Dense)                  (None, None, None, 12 131200      activation_50[0][0]              \n",
      "====================================================================================================\n",
      "Total params: 25,821,184\n",
      "Trainable params: 25,766,016\n",
      "Non-trainable params: 55,168\n",
      "____________________________________________________________________________________________________\n"
     ]
    }
   ],
   "source": [
    "trinet.summary()"
   ]
  },
  {
   "cell_type": "code",
   "execution_count": 17,
   "metadata": {
    "collapsed": true
   },
   "outputs": [],
   "source": [
    "# config = tf.ConfigProto(allow_soft_placement=True)\n",
    "# config.gpu_options.allocator_type = 'BFC'\n",
    "# config.gpu_options.per_process_gpu_memory_fraction = 0.40\n",
    "# config.gpu_options.allow_growth = True"
   ]
  },
  {
   "cell_type": "code",
   "execution_count": 18,
   "metadata": {
    "scrolled": true
   },
   "outputs": [
    {
     "name": "stdout",
     "output_type": "stream",
     "text": [
      "Epoch 1/50\n",
      "5/5 [==============================] - 9s - loss: 1.0000     \n",
      "Epoch 2/50\n",
      "5/5 [==============================] - 4s - loss: 1.0000     \n",
      "Epoch 3/50\n",
      "5/5 [==============================] - 5s - loss: 1.0000     \n",
      "Epoch 4/50\n",
      "5/5 [==============================] - 5s - loss: 1.0000     \n",
      "Epoch 5/50\n",
      "5/5 [==============================] - 4s - loss: 1.0000     \n",
      "Epoch 6/50\n",
      "5/5 [==============================] - 4s - loss: 1.0000     \n",
      "Epoch 7/50\n",
      "5/5 [==============================] - 4s - loss: 1.0000     \n",
      "Epoch 8/50\n",
      "5/5 [==============================] - 4s - loss: 1.0000     \n",
      "Epoch 9/50\n",
      "5/5 [==============================] - 4s - loss: 1.0000     \n",
      "Epoch 10/50\n",
      "5/5 [==============================] - 4s - loss: 1.0000     \n",
      "Epoch 11/50\n",
      "5/5 [==============================] - 4s - loss: 1.0000     \n",
      "Epoch 12/50\n",
      "5/5 [==============================] - 4s - loss: 1.0000     \n",
      "Epoch 13/50\n",
      "5/5 [==============================] - 4s - loss: 1.0000     \n",
      "Epoch 14/50\n",
      "5/5 [==============================] - 4s - loss: 1.0000     \n",
      "Epoch 15/50\n",
      "5/5 [==============================] - 4s - loss: 1.0000     \n",
      "Epoch 16/50\n",
      "5/5 [==============================] - 4s - loss: 1.0000     \n",
      "Epoch 17/50\n",
      "5/5 [==============================] - 4s - loss: 1.0000     \n",
      "Epoch 18/50\n",
      "5/5 [==============================] - 4s - loss: 1.0000     \n",
      "Epoch 19/50\n",
      "5/5 [==============================] - 4s - loss: 1.0000     \n",
      "Epoch 20/50\n",
      "5/5 [==============================] - 4s - loss: 1.0000     \n",
      "Epoch 21/50\n",
      "5/5 [==============================] - 4s - loss: 1.0000     \n",
      "Epoch 22/50\n",
      "5/5 [==============================] - 4s - loss: 1.0000     \n",
      "Epoch 23/50\n",
      "5/5 [==============================] - 4s - loss: 1.0000     \n",
      "Epoch 24/50\n",
      "5/5 [==============================] - 4s - loss: 1.0000     \n",
      "Epoch 25/50\n",
      "5/5 [==============================] - 4s - loss: 1.0000     \n",
      "Epoch 26/50\n",
      "5/5 [==============================] - 4s - loss: 1.0000     \n",
      "Epoch 27/50\n",
      "5/5 [==============================] - 4s - loss: 1.0000     \n",
      "Epoch 28/50\n",
      "5/5 [==============================] - 4s - loss: 1.0000     \n",
      "Epoch 29/50\n",
      "5/5 [==============================] - 4s - loss: 1.0000     \n",
      "Epoch 30/50\n",
      "5/5 [==============================] - 4s - loss: 1.0000     \n",
      "Epoch 31/50\n",
      "5/5 [==============================] - 4s - loss: 1.0000     \n",
      "Epoch 32/50\n",
      "5/5 [==============================] - 4s - loss: 1.0000     \n",
      "Epoch 33/50\n",
      "5/5 [==============================] - 4s - loss: 1.0000     \n",
      "Epoch 34/50\n",
      "5/5 [==============================] - 4s - loss: 1.0000     \n",
      "Epoch 35/50\n",
      "5/5 [==============================] - 4s - loss: 1.0000     \n",
      "Epoch 36/50\n",
      "5/5 [==============================] - 4s - loss: 1.0000     \n",
      "Epoch 37/50\n",
      "5/5 [==============================] - 4s - loss: 1.0000     \n",
      "Epoch 38/50\n",
      "5/5 [==============================] - 4s - loss: 1.0000     \n",
      "Epoch 39/50\n",
      "5/5 [==============================] - 4s - loss: 1.0000     \n",
      "Epoch 40/50\n",
      "5/5 [==============================] - 4s - loss: 1.0000     \n",
      "Epoch 41/50\n",
      "5/5 [==============================] - 4s - loss: 1.0000     \n",
      "Epoch 42/50\n",
      "5/5 [==============================] - 4s - loss: 1.0000     - ETA: 2s - loss: 1.0\n",
      "Epoch 43/50\n",
      "5/5 [==============================] - 4s - loss: 1.0000     \n",
      "Epoch 44/50\n",
      "5/5 [==============================] - 4s - loss: 1.0000     \n",
      "Epoch 45/50\n",
      "5/5 [==============================] - 4s - loss: 1.0000     \n",
      "Epoch 46/50\n",
      "5/5 [==============================] - 4s - loss: 1.0000     \n",
      "Epoch 47/50\n",
      "5/5 [==============================] - 4s - loss: 1.0000     \n",
      "Epoch 48/50\n",
      "5/5 [==============================] - 4s - loss: 1.0000     \n",
      "Epoch 49/50\n",
      "5/5 [==============================] - 4s - loss: 1.0000     \n",
      "Epoch 50/50\n",
      "5/5 [==============================] - 4s - loss: 1.0000     \n"
     ]
    },
    {
     "data": {
      "text/plain": [
       "<keras.callbacks.History at 0x7f4f9f5f2fd0>"
      ]
     },
     "execution_count": 18,
     "metadata": {},
     "output_type": "execute_result"
    }
   ],
   "source": [
    "epochs = 50\n",
    "trinet.fit_generator(output_batch_generator(train_files, labels), steps_per_epoch=5, epochs=epochs)"
   ]
  },
  {
   "cell_type": "markdown",
   "metadata": {},
   "source": [
    "Load model if needed. Continue training net, but now with adaptive learning rate."
   ]
  },
  {
   "cell_type": "code",
   "execution_count": 19,
   "metadata": {
    "collapsed": true
   },
   "outputs": [],
   "source": [
    "# # https://github.com/fchollet/keras/issues/3977\n",
    "# # Load model with custom loss (object)\n",
    "# trinet = load_model('/home/albert/github/tensorflow/trinet_learn_all_epochs_50.h5',\n",
    "#                    custom_objects={'triplet_loss':triplet_loss})"
   ]
  },
  {
   "cell_type": "code",
   "execution_count": 20,
   "metadata": {},
   "outputs": [],
   "source": [
    "# trinet.summary()"
   ]
  },
  {
   "cell_type": "code",
   "execution_count": 21,
   "metadata": {
    "collapsed": true
   },
   "outputs": [],
   "source": [
    "trinet.compile(loss=triplet_loss, optimizer=Adam(lr=0.0003, beta_1=0.5, beta_2=0.999, epsilon=1e-08, decay=0.0))"
   ]
  },
  {
   "cell_type": "code",
   "execution_count": 22,
   "metadata": {
    "scrolled": true
   },
   "outputs": [
    {
     "name": "stdout",
     "output_type": "stream",
     "text": [
      "Epoch 1/50\n",
      "5/5 [==============================] - 5s - loss: 1.0000     \n",
      "Epoch 2/50\n",
      "5/5 [==============================] - 4s - loss: 1.0000     \n",
      "Epoch 3/50\n",
      "5/5 [==============================] - 4s - loss: 1.0000     \n",
      "Epoch 4/50\n",
      "5/5 [==============================] - 4s - loss: 1.0000     \n",
      "Epoch 5/50\n",
      "5/5 [==============================] - 4s - loss: 1.0000     \n",
      "Epoch 6/50\n",
      "5/5 [==============================] - 4s - loss: 1.0000     \n",
      "Epoch 7/50\n",
      "5/5 [==============================] - 4s - loss: 1.0000     \n",
      "Epoch 8/50\n",
      "5/5 [==============================] - 4s - loss: 1.0000     \n",
      "Epoch 9/50\n",
      "5/5 [==============================] - 4s - loss: 1.0000     \n",
      "Epoch 10/50\n",
      "5/5 [==============================] - 5s - loss: 1.0000     \n",
      "Epoch 11/50\n",
      "5/5 [==============================] - 4s - loss: 1.0000     \n",
      "Epoch 12/50\n",
      "5/5 [==============================] - 4s - loss: 1.0000     \n",
      "Epoch 13/50\n",
      "5/5 [==============================] - 4s - loss: 1.0000     \n",
      "Epoch 14/50\n",
      "5/5 [==============================] - 4s - loss: 1.0000     \n",
      "Epoch 15/50\n",
      "5/5 [==============================] - 4s - loss: 1.0000     \n",
      "Epoch 16/50\n",
      "5/5 [==============================] - 4s - loss: 1.0000     \n",
      "Epoch 17/50\n",
      "5/5 [==============================] - 4s - loss: 1.0000     \n",
      "Epoch 18/50\n",
      "5/5 [==============================] - 4s - loss: 1.0000     \n",
      "Epoch 19/50\n",
      "5/5 [==============================] - 4s - loss: 1.0000     \n",
      "Epoch 20/50\n",
      "5/5 [==============================] - 5s - loss: 1.0000     \n",
      "Epoch 21/50\n",
      "5/5 [==============================] - 4s - loss: 1.0000     \n",
      "Epoch 22/50\n",
      "5/5 [==============================] - 4s - loss: 1.0000     \n",
      "Epoch 23/50\n",
      "5/5 [==============================] - 4s - loss: 1.0000     \n",
      "Epoch 24/50\n",
      "5/5 [==============================] - 4s - loss: 1.0000     \n",
      "Epoch 25/50\n",
      "5/5 [==============================] - 5s - loss: 1.0000     \n",
      "Epoch 26/50\n",
      "5/5 [==============================] - 4s - loss: 1.0000     \n",
      "Epoch 27/50\n",
      "5/5 [==============================] - 4s - loss: 1.0000     \n",
      "Epoch 28/50\n",
      "5/5 [==============================] - 4s - loss: 1.0000     \n",
      "Epoch 29/50\n",
      "5/5 [==============================] - 4s - loss: 1.0000     \n",
      "Epoch 30/50\n",
      "5/5 [==============================] - 4s - loss: 1.0000     \n",
      "Epoch 31/50\n",
      "5/5 [==============================] - 4s - loss: 1.0000     \n",
      "Epoch 32/50\n",
      "5/5 [==============================] - 4s - loss: 1.0000     \n",
      "Epoch 33/50\n",
      "5/5 [==============================] - 4s - loss: 1.0000     \n",
      "Epoch 34/50\n",
      "5/5 [==============================] - 5s - loss: 1.0000     \n",
      "Epoch 35/50\n",
      "5/5 [==============================] - 4s - loss: 1.0000     \n",
      "Epoch 36/50\n",
      "5/5 [==============================] - 4s - loss: 1.0000     \n",
      "Epoch 37/50\n",
      "5/5 [==============================] - 4s - loss: 1.0000     \n",
      "Epoch 38/50\n",
      "5/5 [==============================] - 4s - loss: 1.0000     \n",
      "Epoch 39/50\n",
      "5/5 [==============================] - 5s - loss: 1.0000     \n",
      "Epoch 40/50\n",
      "5/5 [==============================] - 4s - loss: 1.0000     \n",
      "Epoch 41/50\n",
      "5/5 [==============================] - 4s - loss: 1.0000     \n",
      "Epoch 42/50\n",
      "5/5 [==============================] - 4s - loss: 1.0000     \n",
      "Epoch 43/50\n",
      "5/5 [==============================] - 4s - loss: 1.0000     \n",
      "Epoch 44/50\n",
      "5/5 [==============================] - 4s - loss: 1.0000     \n",
      "Epoch 45/50\n",
      "5/5 [==============================] - 4s - loss: 1.0000     \n",
      "Epoch 46/50\n",
      "5/5 [==============================] - 4s - loss: 1.0000     \n",
      "Epoch 47/50\n",
      "5/5 [==============================] - 4s - loss: 1.0000     \n",
      "Epoch 48/50\n",
      "5/5 [==============================] - 4s - loss: 1.0000     \n",
      "Epoch 49/50\n",
      "5/5 [==============================] - 4s - loss: 1.0000     \n",
      "Epoch 50/50\n",
      "5/5 [==============================] - 4s - loss: 1.0000     \n"
     ]
    },
    {
     "data": {
      "text/plain": [
       "<keras.callbacks.History at 0x7f4ffc961a10>"
      ]
     },
     "execution_count": 22,
     "metadata": {},
     "output_type": "execute_result"
    }
   ],
   "source": [
    "epochs = 50\n",
    "trinet.fit_generator(output_batch_generator(train_files, labels), \n",
    "                     steps_per_epoch=5, \n",
    "                     epochs=epochs, callbacks=[lrate])"
   ]
  },
  {
   "cell_type": "code",
   "execution_count": 23,
   "metadata": {
    "collapsed": true
   },
   "outputs": [],
   "source": [
    "trinet.save('/home/albert/github/tensorflow/trinet_learn_all_epochs_adalar_%d.h5' % epochs)"
   ]
  },
  {
   "cell_type": "code",
   "execution_count": 24,
   "metadata": {
    "collapsed": true
   },
   "outputs": [],
   "source": [
    "all_embeddings = []\n",
    "all_identities = []\n",
    "for idt in train_files.keys():\n",
    "    for f in train_files[idt]:\n",
    "        img = cv2.resize(misc.imread(f), (224,224))\n",
    "        predict = trinet.predict(img.reshape(1, 224, 224, 3))\n",
    "        all_embeddings.append(predict)\n",
    "        all_identities.append(idt)"
   ]
  },
  {
   "cell_type": "code",
   "execution_count": 38,
   "metadata": {},
   "outputs": [
    {
     "name": "stdout",
     "output_type": "stream",
     "text": [
      "0.137\n",
      "0.126\n",
      "0.137\n"
     ]
    }
   ],
   "source": [
    "i = 0\n",
    "score_arr.append([])\n",
    "for x in range(3):\n",
    "    score = evaluate_rank(trinet, 1, all_embeddings, all_identities, test_iter=1000)\n",
    "    print score\n",
    "    score_arr[i].append(score)\n",
    "i += 1"
   ]
  },
  {
   "cell_type": "code",
   "execution_count": 26,
   "metadata": {
    "collapsed": true
   },
   "outputs": [],
   "source": [
    "# np.save('/home/albert/github/tensorflow/rank20_learn_all.npy', np.array(score_arr))"
   ]
  },
  {
   "cell_type": "code",
   "execution_count": 27,
   "metadata": {},
   "outputs": [
    {
     "name": "stdout",
     "output_type": "stream",
     "text": [
      "[[0.439, 0.418, 0.402]]\n"
     ]
    }
   ],
   "source": [
    "print score_arr"
   ]
  },
  {
   "cell_type": "markdown",
   "metadata": {},
   "source": [
    "https://keras.io/getting-started/faq/: use load_model to reinstantiate model."
   ]
  },
  {
   "cell_type": "markdown",
   "metadata": {},
   "source": [
    "Train all, lr_decay=1e-6, use log1p"
   ]
  },
  {
   "cell_type": "markdown",
   "metadata": {
    "collapsed": true
   },
   "source": [
    "### Evaluate Performance"
   ]
  },
  {
   "cell_type": "code",
   "execution_count": null,
   "metadata": {
    "collapsed": true
   },
   "outputs": [],
   "source": [
    "p = 7\n",
    "query_img = cv2.resize(misc.imread(train_files[p][2]), (224,224))\n",
    "query_embedding = trinet.predict(model.predict(query_img.reshape(1, 224, 224, 3)))"
   ]
  },
  {
   "cell_type": "code",
   "execution_count": null,
   "metadata": {
    "collapsed": true
   },
   "outputs": [],
   "source": [
    "distance_vectors = np.squeeze(np.abs(all_embeddings - query_embedding))\n",
    "distance = np.sum(distance_vectors, axis=1)"
   ]
  },
  {
   "cell_type": "code",
   "execution_count": null,
   "metadata": {
    "collapsed": true
   },
   "outputs": [],
   "source": [
    "top_inds = distance.argsort()[:20]\n",
    "output_classes = np.array(all_identities)[top_inds]\n",
    "pp.pprint(zip(distance[top_inds], np.array(all_identities)[top_inds].astype(np.uint16)))"
   ]
  },
  {
   "cell_type": "code",
   "execution_count": null,
   "metadata": {
    "collapsed": true
   },
   "outputs": [],
   "source": []
  }
 ],
 "metadata": {
  "kernelspec": {
   "display_name": "Python 2",
   "language": "python",
   "name": "python2"
  },
  "language_info": {
   "codemirror_mode": {
    "name": "ipython",
    "version": 2
   },
   "file_extension": ".py",
   "mimetype": "text/x-python",
   "name": "python",
   "nbconvert_exporter": "python",
   "pygments_lexer": "ipython2",
   "version": "2.7.13"
  }
 },
 "nbformat": 4,
 "nbformat_minor": 2
}
