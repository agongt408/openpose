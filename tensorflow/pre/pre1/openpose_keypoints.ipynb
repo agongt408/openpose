{
 "cells": [
  {
   "cell_type": "code",
   "execution_count": 1,
   "metadata": {
    "collapsed": true
   },
   "outputs": [],
   "source": [
    "import numpy as np\n",
    "from scipy import misc\n",
    "import cv2\n",
    "import matplotlib.pyplot as plt\n",
    "import time\n",
    "import json\n",
    "%matplotlib inline"
   ]
  },
  {
   "cell_type": "code",
   "execution_count": 2,
   "metadata": {
    "collapsed": true
   },
   "outputs": [],
   "source": [
    "import os\n",
    "import sys"
   ]
  },
  {
   "cell_type": "code",
   "execution_count": 3,
   "metadata": {
    "collapsed": true
   },
   "outputs": [],
   "source": [
    "CAFFE_ROOT = '/home/albert/github/tensorflow/'\n",
    "# CAFFE_ROOT = '/Users/tradergllc/github/tensorflow/'\n",
    "train_img_dir = os.listdir(CAFFE_ROOT + 'data/market-1501/bounding_box_train')\n",
    "test_img_dir = os.listdir(CAFFE_ROOT + 'data/market-1501/bounding_box_test')"
   ]
  },
  {
   "cell_type": "code",
   "execution_count": 4,
   "metadata": {
    "collapsed": true
   },
   "outputs": [],
   "source": [
    "train_dict = {}\n",
    "train_files = []\n",
    "train_labels = []\n",
    "\n",
    "for f in train_img_dir:\n",
    "    if f[-4:] == '.jpg':\n",
    "        idt = int(f[0:f.index('_')])\n",
    "        if not any(idt == l for l in train_labels):\n",
    "            train_labels.append(idt)\n",
    "            train_dict[idt] = []\n",
    "        path = CAFFE_ROOT + 'data/market-1501/bounding_box_train/' + f\n",
    "        train_files.append([path, idt])\n",
    "        train_dict[idt].append(path)\n",
    "\n",
    "train_labels.sort()"
   ]
  },
  {
   "cell_type": "code",
   "execution_count": 5,
   "metadata": {
    "collapsed": true
   },
   "outputs": [],
   "source": [
    "test_dict = {}\n",
    "test_files = []\n",
    "test_labels = []\n",
    "\n",
    "for f in test_img_dir:\n",
    "    if f[-4:] == '.jpg':\n",
    "        idt = int(f[0:f.index('_')])\n",
    "        if idt != 0 and idt != -1:\n",
    "            if not any(idt == l for l in test_labels):\n",
    "                test_labels.append(idt)\n",
    "                test_dict[idt] = []\n",
    "            path = CAFFE_ROOT + 'data/market-1501/bounding_box_test/' + f\n",
    "            test_files.append([path, idt])\n",
    "            test_dict[idt].append(path)\n",
    "        \n",
    "test_labels.sort()"
   ]
  },
  {
   "cell_type": "code",
   "execution_count": 8,
   "metadata": {
    "collapsed": true
   },
   "outputs": [],
   "source": [
    "BODY_PARTS = [\n",
    "    \"Nose\",\n",
    "    \"Neck\",\n",
    "    \"RShoulder\",\n",
    "    \"RElbow\",\n",
    "    \"RWrist\",\n",
    "    \"LShoulder\",\n",
    "    \"LElbow\",\n",
    "    \"LWrist\",\n",
    "    \"RHip\",\n",
    "    \"RKnee\",\n",
    "    \"RAnkle\",\n",
    "    \"LHip\",\n",
    "    \"LKnee\",\n",
    "    \"LAnkle\",\n",
    "    \"REye\",\n",
    "    \"LEye\",\n",
    "    \"REar\",\n",
    "    \"LEar\",\n",
    "    \"Bkg\",\n",
    "]"
   ]
  },
  {
   "cell_type": "code",
   "execution_count": 67,
   "metadata": {},
   "outputs": [],
   "source": [
    "def exists_keypoints(img_path, shape=(128,64), train=False, thresh=0.5):\n",
    "    if img_path.find('/') > -1:\n",
    "        root = img_path[len(img_path) - img_path[::-1].index('/'):-4:]\n",
    "    else:\n",
    "        root = img_path[0:img_path.index('.')]\n",
    "    \n",
    "    DATA_ROOT = '/home/albert/github/tensorflow/'\n",
    "    if train:\n",
    "        keypoint_path = DATA_ROOT + \\\n",
    "                        'data/market-1501/train_openpose/train_keypoints/%s_keypoints.json' % root\n",
    "    else:\n",
    "        keypoint_path = DATA_ROOT + \\\n",
    "                        'data/market-1501/test_openpose/test_keypoints/%s_keypoints.json' % root\n",
    "    \n",
    "    body_part_freq = np.ones((len(BODY_PARTS)), dtype=np.int64)\n",
    "    \n",
    "    with open(keypoint_path) as data_file:\n",
    "        data = json.load(data_file)\n",
    "    for person in range(len(data['people'])):\n",
    "        for i in range(0, len(data['people'][person]['pose_keypoints']), 3):\n",
    "            x_key = data['people'][person]['pose_keypoints'][i] * shape[1] / 64.0\n",
    "            y_key = data['people'][person]['pose_keypoints'][i + 1] * shape[0] / 128.0\n",
    "            c_key = data['people'][person]['pose_keypoints'][i + 2]\n",
    "            \n",
    "            if (x_key == 0 and y_key == 0) or c_key < thresh:\n",
    "                body_part_freq[i / 3] = 0\n",
    "\n",
    "    return body_part_freq.astype(np.int64)"
   ]
  },
  {
   "cell_type": "code",
   "execution_count": 93,
   "metadata": {},
   "outputs": [
    {
     "data": {
      "image/png": "[encoded data removed]",
      "text/plain": [
       "<matplotlib.figure.Figure at 0x7f58681e6790>"
      ]
     },
     "metadata": {},
     "output_type": "display_data"
    }
   ],
   "source": [
    "body_part_freq = np.zeros((len(BODY_PARTS)), dtype=np.int64)\n",
    "for f in train_files:\n",
    "    body_part_freq = body_part_freq + exists_keypoints(f[0], train=True, thresh=0.0)\n",
    "\n",
    "plt.figure(figsize=(20,6))\n",
    "plt.bar(np.arange(19), body_part_freq)\n",
    "plt.xticks(np.arange(19), BODY_PARTS)\n",
    "plt.show()"
   ]
  },
  {
   "cell_type": "code",
   "execution_count": 89,
   "metadata": {},
   "outputs": [
    {
     "data": {
      "image/png": "[encoded data removed]",
      "text/plain": [
       "<matplotlib.figure.Figure at 0x7f5868256550>"
      ]
     },
     "metadata": {},
     "output_type": "display_data"
    }
   ],
   "source": [
    "body_part_freq = np.zeros((len(BODY_PARTS)), dtype=np.int64)\n",
    "for f in train_files:\n",
    "    body_part_freq = body_part_freq + exists_keypoints(f[0], train=True)\n",
    "\n",
    "plt.figure(figsize=(20,6))\n",
    "plt.bar(np.arange(19), body_part_freq)\n",
    "plt.xticks(np.arange(19), BODY_PARTS)\n",
    "plt.show()"
   ]
  },
  {
   "cell_type": "code",
   "execution_count": null,
   "metadata": {
    "collapsed": true
   },
   "outputs": [],
   "source": []
  }
 ],
 "metadata": {
  "kernelspec": {
   "display_name": "Python 2",
   "language": "python",
   "name": "python2"
  },
  "language_info": {
   "codemirror_mode": {
    "name": "ipython",
    "version": 2
   },
   "file_extension": ".py",
   "mimetype": "text/x-python",
   "name": "python",
   "nbconvert_exporter": "python",
   "pygments_lexer": "ipython2",
   "version": "2.7.13"
  }
 },
 "nbformat": 4,
 "nbformat_minor": 2
}
