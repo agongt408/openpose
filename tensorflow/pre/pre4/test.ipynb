{
 "cells": [
  {
   "cell_type": "code",
   "execution_count": 1,
   "metadata": {},
   "outputs": [
    {
     "name": "stderr",
     "output_type": "stream",
     "text": [
      "Using TensorFlow backend.\n"
     ]
    }
   ],
   "source": [
    "import keras.backend as K\n",
    "import sys\n",
    "sys.path.append('/home/albert/github/tensorflow/src/')\n",
    "import evaluation\n",
    "import data\n",
    "import dense\n",
    "import triplet"
   ]
  },
  {
   "cell_type": "code",
   "execution_count": 2,
   "metadata": {
    "collapsed": true
   },
   "outputs": [],
   "source": [
    "import numpy as np\n",
    "import matplotlib.pyplot as plt\n",
    "import time\n",
    "%matplotlib inline"
   ]
  },
  {
   "cell_type": "code",
   "execution_count": 3,
   "metadata": {
    "collapsed": true
   },
   "outputs": [],
   "source": [
    "from keras.layers import concatenate, Dense, BatchNormalization, Activation, Lambda\n",
    "from keras.models import Model\n",
    "from keras.optimizers import Adam"
   ]
  },
  {
   "cell_type": "code",
   "execution_count": 9,
   "metadata": {
    "scrolled": false
   },
   "outputs": [
    {
     "name": "stdout",
     "output_type": "stream",
     "text": [
      "1000 21.579529047\n",
      "2000 42.2431452274\n",
      "3000 62.9040641785\n",
      "4000 83.5728671551\n",
      "5000 104.22530508\n",
      "6000 124.876267195\n",
      "7000 145.539362192\n",
      "8000 166.222316027\n",
      "9000 186.886820078\n",
      "10000 207.539956093\n",
      "11000 228.242512226\n",
      "12000 249.025994062\n",
      "13000 269.686958075\n",
      "14000 290.409095049\n",
      "15000 311.568870068\n",
      "16000 332.348896027\n",
      "17000 353.064511061\n",
      "18000 373.777870178\n",
      "19000 394.542378187\n",
      "1000 20.7260689735\n",
      "2000 41.4195039272\n",
      "3000 62.1171779633\n",
      "6000 {'mAP': 0.29461147022611384, 'rank': [0.48723277909738716, 0.7345605700712589, 0.8850950118764845], 'loss': []}\n"
     ]
    }
   ],
   "source": [
    "score = {}\n",
    "for it in range(6000,7000,1000):\n",
    "    file_root = 'densenet_triplet'\n",
    "    model = evaluation.load_model('/home/albert/github/tensorflow/models/%s/%s.json' % (file_root, file_root), \n",
    "                                  '/home/albert/github/tensorflow/models/densenet_triplet/densenet_triplet_%d.npy' % it)\n",
    "    score[it] = evaluation.get_score(model, keypoints=None, preprocess=True, shape=(256,128))\n",
    "    print it, score[it]"
   ]
  },
  {
   "cell_type": "code",
   "execution_count": 5,
   "metadata": {
    "collapsed": true
   },
   "outputs": [],
   "source": [
    "train_dict, train_files = data.get_data('train', keypoints=['Neck'])"
   ]
  },
  {
   "cell_type": "code",
   "execution_count": 6,
   "metadata": {},
   "outputs": [
    {
     "name": "stdout",
     "output_type": "stream",
     "text": [
      "preprocess True\n",
      "keypoints ['Neck']\n",
      "1.39104390144\n"
     ]
    }
   ],
   "source": [
    "start = time.time()\n",
    "batch = data.output_batch_generator(train_dict, P=8, preprocess=True,\n",
    "                                    shape=(256,128), keypoints=['Neck'], r=0.6,\n",
    "                                    cam_output_dim=(16,8), cam_wide=False, crop=False).next()\n",
    "print time.time() - start"
   ]
  },
  {
   "cell_type": "code",
   "execution_count": 8,
   "metadata": {
    "collapsed": true
   },
   "outputs": [],
   "source": [
    "file_root = 'densenet_triplet'\n",
    "model = evaluation.load_model('/home/albert/github/tensorflow/pre3/models/%s/%s.json' % (file_root, file_root), \n",
    "                              '/home/albert/github/tensorflow/pre3/models/densenet_triplet/densenet_triplet_%d.npy' % 13000)"
   ]
  },
  {
   "cell_type": "code",
   "execution_count": 7,
   "metadata": {},
   "outputs": [
    {
     "ename": "NameError",
     "evalue": "name 'model' is not defined",
     "output_type": "error",
     "traceback": [
      "\u001b[0;31m---------------------------------------------------------------------------\u001b[0m",
      "\u001b[0;31mNameError\u001b[0m                                 Traceback (most recent call last)",
      "\u001b[0;32m<ipython-input-7-603dce75af34>\u001b[0m in \u001b[0;36m<module>\u001b[0;34m()\u001b[0m\n\u001b[1;32m      1\u001b[0m \u001b[0mn\u001b[0m \u001b[0;34m=\u001b[0m \u001b[0;36m5\u001b[0m\u001b[0;34m\u001b[0m\u001b[0m\n\u001b[0;32m----> 2\u001b[0;31m \u001b[0mcam\u001b[0m \u001b[0;34m=\u001b[0m \u001b[0mmodel\u001b[0m\u001b[0;34m.\u001b[0m\u001b[0mpredict\u001b[0m\u001b[0;34m(\u001b[0m\u001b[0mbatch\u001b[0m\u001b[0;34m[\u001b[0m\u001b[0;36m0\u001b[0m\u001b[0;34m]\u001b[0m\u001b[0;34m[\u001b[0m\u001b[0;34m'input_im'\u001b[0m\u001b[0;34m]\u001b[0m\u001b[0;34m[\u001b[0m\u001b[0mn\u001b[0m\u001b[0;34m]\u001b[0m\u001b[0;34m.\u001b[0m\u001b[0mreshape\u001b[0m\u001b[0;34m(\u001b[0m\u001b[0;34m(\u001b[0m\u001b[0;36m1\u001b[0m\u001b[0;34m,\u001b[0m\u001b[0;36m256\u001b[0m\u001b[0;34m,\u001b[0m\u001b[0;36m128\u001b[0m\u001b[0;34m,\u001b[0m\u001b[0;36m3\u001b[0m\u001b[0;34m)\u001b[0m\u001b[0;34m)\u001b[0m\u001b[0;34m)\u001b[0m\u001b[0;34m[\u001b[0m\u001b[0;36m1\u001b[0m\u001b[0;34m]\u001b[0m\u001b[0;34m[\u001b[0m\u001b[0;36m0\u001b[0m\u001b[0;34m]\u001b[0m\u001b[0;34m\u001b[0m\u001b[0m\n\u001b[0m\u001b[1;32m      3\u001b[0m \u001b[0mplt\u001b[0m\u001b[0;34m.\u001b[0m\u001b[0msubplot\u001b[0m\u001b[0;34m(\u001b[0m\u001b[0;36m131\u001b[0m\u001b[0;34m)\u001b[0m\u001b[0;34m\u001b[0m\u001b[0m\n\u001b[1;32m      4\u001b[0m \u001b[0mplt\u001b[0m\u001b[0;34m.\u001b[0m\u001b[0mimshow\u001b[0m\u001b[0;34m(\u001b[0m\u001b[0mbatch\u001b[0m\u001b[0;34m[\u001b[0m\u001b[0;36m0\u001b[0m\u001b[0;34m]\u001b[0m\u001b[0;34m[\u001b[0m\u001b[0;34m'input_im'\u001b[0m\u001b[0;34m]\u001b[0m\u001b[0;34m[\u001b[0m\u001b[0mn\u001b[0m\u001b[0;34m]\u001b[0m\u001b[0;34m)\u001b[0m\u001b[0;34m\u001b[0m\u001b[0m\n\u001b[1;32m      5\u001b[0m \u001b[0mplt\u001b[0m\u001b[0;34m.\u001b[0m\u001b[0msubplot\u001b[0m\u001b[0;34m(\u001b[0m\u001b[0;36m132\u001b[0m\u001b[0;34m)\u001b[0m\u001b[0;34m\u001b[0m\u001b[0m\n",
      "\u001b[0;31mNameError\u001b[0m: name 'model' is not defined"
     ]
    }
   ],
   "source": [
    "n = 5\n",
    "cam = model.predict(batch[0]['input_im'][n].reshape((1,256,128,3)))[1][0]\n",
    "plt.subplot(131)\n",
    "plt.imshow(batch[0]['input_im'][n])\n",
    "plt.subplot(132)\n",
    "plt.imshow(batch[1]['cam_output'][n], cmap=plt.cm.jet)\n",
    "plt.subplot(133)\n",
    "plt.imshow(cam, cmap=plt.cm.jet)\n",
    "plt.show()"
   ]
  },
  {
   "cell_type": "code",
   "execution_count": 3,
   "metadata": {
    "collapsed": true
   },
   "outputs": [],
   "source": [
    "train_dict, train_files = data.get_data('train')"
   ]
  },
  {
   "cell_type": "code",
   "execution_count": 4,
   "metadata": {
    "scrolled": true
   },
   "outputs": [
    {
     "name": "stdout",
     "output_type": "stream",
     "text": [
      "preprocess True\n",
      "keypoints None\n",
      "preprocess True\n",
      "keypoints None\n",
      "preprocess True\n",
      "keypoints None\n",
      "preprocess True\n",
      "keypoints None\n",
      "preprocess True\n",
      "keypoints None\n",
      "preprocess True\n",
      "keypoints None\n",
      "preprocess True\n",
      "keypoints None\n",
      "preprocess True\n",
      "keypoints None\n",
      "preprocess True\n",
      "keypoints None\n",
      "preprocess True\n",
      "keypoints None\n",
      "preprocess True\n",
      "keypoints None\n",
      "preprocess True\n",
      "keypoints None\n",
      "preprocess True\n",
      "keypoints None\n",
      "preprocess True\n",
      "keypoints None\n",
      "preprocess True\n",
      "keypoints None\n",
      "preprocess True\n",
      "keypoints None\n",
      "preprocess True\n",
      "keypoints None\n",
      "preprocess True\n",
      "keypoints None\n",
      "preprocess True\n",
      "keypoints None\n",
      "preprocess True\n",
      "keypoints None\n",
      "preprocess True\n",
      "keypoints None\n",
      "preprocess True\n",
      "keypoints None\n",
      "preprocess True\n",
      "keypoints None\n",
      "preprocess True\n",
      "keypoints None\n",
      "preprocess True\n",
      "keypoints None\n",
      "preprocess True\n",
      "keypoints None\n",
      "preprocess True\n",
      "keypoints None\n",
      "preprocess True\n",
      "keypoints None\n",
      "preprocess True\n",
      "keypoints None\n",
      "preprocess True\n",
      "keypoints None\n",
      "preprocess True\n",
      "keypoints None\n",
      "preprocess True\n",
      "keypoints None\n",
      "preprocess True\n",
      "keypoints None\n",
      "preprocess True\n",
      "keypoints None\n",
      "preprocess True\n",
      "keypoints None\n",
      "preprocess True\n",
      "keypoints None\n",
      "preprocess True\n",
      "keypoints None\n",
      "preprocess True\n",
      "keypoints None\n",
      "preprocess True\n",
      "keypoints None\n",
      "preprocess True\n",
      "keypoints None\n",
      "preprocess True\n",
      "keypoints None\n",
      "preprocess True\n",
      "keypoints None\n",
      "preprocess True\n",
      "keypoints None\n",
      "preprocess True\n",
      "keypoints None\n",
      "preprocess True\n",
      "keypoints None\n",
      "preprocess True\n",
      "keypoints None\n",
      "preprocess True\n",
      "keypoints None\n",
      "preprocess True\n",
      "keypoints None\n",
      "preprocess True\n",
      "keypoints None\n",
      "preprocess True\n",
      "keypoints None\n",
      "preprocess True\n",
      "keypoints None\n",
      "preprocess True\n",
      "keypoints None\n",
      "preprocess True\n",
      "keypoints None\n",
      "preprocess True\n",
      "keypoints None\n",
      "preprocess True\n",
      "keypoints None\n",
      "preprocess True\n",
      "keypoints None\n",
      "preprocess True\n",
      "keypoints None\n",
      "preprocess True\n",
      "keypoints None\n",
      "preprocess True\n",
      "keypoints None\n",
      "preprocess True\n",
      "keypoints None\n",
      "preprocess True\n",
      "keypoints None\n",
      "preprocess True\n",
      "keypoints None\n",
      "preprocess True\n",
      "keypoints None\n",
      "preprocess True\n",
      "keypoints None\n",
      "preprocess True\n",
      "keypoints None\n",
      "preprocess True\n",
      "keypoints None\n",
      "preprocess True\n",
      "keypoints None\n",
      "preprocess True\n",
      "keypoints None\n",
      "preprocess True\n",
      "keypoints None\n",
      "preprocess True\n",
      "keypoints None\n",
      "preprocess True\n",
      "keypoints None\n",
      "preprocess True\n",
      "keypoints None\n",
      "preprocess True\n",
      "keypoints None\n",
      "preprocess True\n",
      "keypoints None\n",
      "preprocess True\n",
      "keypoints None\n",
      "preprocess True\n",
      "keypoints None\n",
      "preprocess True\n",
      "keypoints None\n",
      "preprocess True\n",
      "keypoints None\n",
      "preprocess True\n",
      "keypoints None\n",
      "preprocess True\n",
      "keypoints None\n",
      "preprocess True\n",
      "keypoints None\n",
      "preprocess True\n",
      "keypoints None\n",
      "preprocess True\n",
      "keypoints None\n",
      "preprocess True\n",
      "keypoints None\n",
      "preprocess True\n",
      "keypoints None\n",
      "preprocess True\n",
      "keypoints None\n",
      "preprocess True\n",
      "keypoints None\n",
      "preprocess True\n",
      "keypoints None\n",
      "preprocess True\n",
      "keypoints None\n",
      "preprocess True\n",
      "keypoints None\n",
      "preprocess True\n",
      "keypoints None\n",
      "preprocess True\n",
      "keypoints None\n",
      "preprocess True\n",
      "keypoints None\n",
      "preprocess True\n",
      "keypoints None\n",
      "preprocess True\n",
      "keypoints None\n",
      "preprocess True\n",
      "keypoints None\n",
      "preprocess True\n",
      "keypoints None\n",
      "preprocess True\n",
      "keypoints None\n",
      "preprocess True\n",
      "keypoints None\n",
      "preprocess True\n",
      "keypoints None\n",
      "107.71975708\n"
     ]
    }
   ],
   "source": [
    "start = time.time()\n",
    "for i in range(100):\n",
    "    batch = data.output_batch_generator(train_dict, P=8, preprocess=True,\n",
    "                                        shape=(256,128), keypoints=None, r=0.5, crop=False, flip=True).next()\n",
    "print time.time() - start"
   ]
  },
  {
   "cell_type": "code",
   "execution_count": 6,
   "metadata": {},
   "outputs": [
    {
     "name": "stdout",
     "output_type": "stream",
     "text": [
      "0.000200033187866\n"
     ]
    }
   ],
   "source": [
    "start = time.time()\n",
    "for i in range(100):\n",
    "    a = np.random.randint(2)\n",
    "print time.time() - start"
   ]
  },
  {
   "cell_type": "code",
   "execution_count": 7,
   "metadata": {},
   "outputs": [
    {
     "name": "stdout",
     "output_type": "stream",
     "text": [
      "2.703166008\n"
     ]
    }
   ],
   "source": [
    "start = time.time()\n",
    "for i in range(100):\n",
    "    im = np.flip(np.array(batch[0]['input_im'][0]), axis=1).tolist()\n",
    "print time.time() - start"
   ]
  },
  {
   "cell_type": "code",
   "execution_count": 9,
   "metadata": {},
   "outputs": [
    {
     "data": {
      "text/plain": [
       "(256, 128, 3)"
      ]
     },
     "execution_count": 9,
     "metadata": {},
     "output_type": "execute_result"
    }
   ],
   "source": [
    "np.array(im).shape"
   ]
  },
  {
   "cell_type": "code",
   "execution_count": 5,
   "metadata": {},
   "outputs": [
    {
     "ename": "TypeError",
     "evalue": "can't multiply sequence by non-int of type 'float'",
     "output_type": "error",
     "traceback": [
      "\u001b[0;31m---------------------------------------------------------------------------\u001b[0m",
      "\u001b[0;31mTypeError\u001b[0m                                 Traceback (most recent call last)",
      "\u001b[0;32m<ipython-input-5-5e87748716c8>\u001b[0m in \u001b[0;36m<module>\u001b[0;34m()\u001b[0m\n\u001b[0;32m----> 1\u001b[0;31m \u001b[0;36m1.125\u001b[0m \u001b[0;34m*\u001b[0m \u001b[0;34m(\u001b[0m\u001b[0;36m256\u001b[0m\u001b[0;34m,\u001b[0m\u001b[0;36m128\u001b[0m\u001b[0;34m)\u001b[0m\u001b[0;34m\u001b[0m\u001b[0m\n\u001b[0m",
      "\u001b[0;31mTypeError\u001b[0m: can't multiply sequence by non-int of type 'float'"
     ]
    }
   ],
   "source": [
    "1.125 * (256,128)"
   ]
  },
  {
   "cell_type": "code",
   "execution_count": null,
   "metadata": {
    "collapsed": true
   },
   "outputs": [],
   "source": []
  }
 ],
 "metadata": {
  "kernelspec": {
   "display_name": "Python 2",
   "language": "python",
   "name": "python2"
  },
  "language_info": {
   "codemirror_mode": {
    "name": "ipython",
    "version": 2
   },
   "file_extension": ".py",
   "mimetype": "text/x-python",
   "name": "python",
   "nbconvert_exporter": "python",
   "pygments_lexer": "ipython2",
   "version": "2.7.13"
  }
 },
 "nbformat": 4,
 "nbformat_minor": 2
}
