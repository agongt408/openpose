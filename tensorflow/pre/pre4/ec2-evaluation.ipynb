{
 "cells": [
  {
   "cell_type": "code",
   "execution_count": 1,
   "metadata": {},
   "outputs": [
    {
     "name": "stderr",
     "output_type": "stream",
     "text": [
      "Using TensorFlow backend.\n"
     ]
    }
   ],
   "source": [
    "import os\n",
    "import time\n",
    "import numpy as np\n",
    "import matplotlib.pyplot as plt\n",
    "%matplotlib inline\n",
    "\n",
    "import keras\n",
    "\n",
    "import sys\n",
    "# sys.path.append('/Users/tradergllc/github/tensorflow/src/')\n",
    "sys.path.append('/home/albert/github/tensorflow/src/')\n",
    "import triplet_merge_cam\n",
    "import dense"
   ]
  },
  {
   "cell_type": "code",
   "execution_count": 2,
   "metadata": {
    "collapsed": true
   },
   "outputs": [],
   "source": [
    "model_root = ['densenet_triplet_cam_block2_3', 'densenet_triplet_cam_end']"
   ]
  },
  {
   "cell_type": "code",
   "execution_count": 3,
   "metadata": {
    "collapsed": true
   },
   "outputs": [],
   "source": [
    "ip = 'ec2-52-14-4-98.us-east-2.compute.amazonaws.com'"
   ]
  },
  {
   "cell_type": "code",
   "execution_count": 4,
   "metadata": {
    "collapsed": true
   },
   "outputs": [],
   "source": [
    "download = \"scp -i /home/albert/aws/ec2-ubuntu.pem ubuntu@%s:albert/models/%s/%s_%d.h5 /home/albert/github/tensorflow/models/%s/\""
   ]
  },
  {
   "cell_type": "code",
   "execution_count": 5,
   "metadata": {
    "collapsed": true
   },
   "outputs": [],
   "source": [
    "for m in model_root:\n",
    "    if os.path.exists('/home/albert/github/tensorflow/models/%s' % m) == False:\n",
    "        os.system('mkdir /home/albert/github/tensorflow/models/%s' % m)"
   ]
  },
  {
   "cell_type": "code",
   "execution_count": 6,
   "metadata": {
    "collapsed": true
   },
   "outputs": [],
   "source": [
    "CAFFE_ROOT = '/home/albert/github/tensorflow/'\n",
    "# CAFFE_ROOT = '/Users/tradergllc/github/tensorflow/'\n",
    "train_img_dir = os.listdir(CAFFE_ROOT + 'data/market-1501/bounding_box_train')\n",
    "test_img_dir = os.listdir(CAFFE_ROOT + 'data/market-1501/bounding_box_test')"
   ]
  },
  {
   "cell_type": "code",
   "execution_count": 7,
   "metadata": {
    "collapsed": true
   },
   "outputs": [],
   "source": [
    "train_dict = {}\n",
    "train_files = []\n",
    "train_labels = []\n",
    "\n",
    "for f in train_img_dir:\n",
    "    if f[-4:] == '.jpg':\n",
    "        idt = int(f[0:f.index('_')])\n",
    "        if not any(idt == l for l in train_labels):\n",
    "            train_labels.append(idt)\n",
    "            train_dict[idt] = []\n",
    "        path = CAFFE_ROOT + 'data/market-1501/bounding_box_train/' + f\n",
    "        train_files.append([path, idt])\n",
    "        train_dict[idt].append(path)\n",
    "\n",
    "train_labels.sort()"
   ]
  },
  {
   "cell_type": "code",
   "execution_count": 8,
   "metadata": {
    "collapsed": true
   },
   "outputs": [],
   "source": [
    "test_dict = {}\n",
    "test_files = []\n",
    "test_labels = []\n",
    "\n",
    "for f in test_img_dir:\n",
    "    if f[-4:] == '.jpg':\n",
    "        idt = int(f[0:f.index('_')])\n",
    "        if idt != 0 and idt != -1:\n",
    "            if not any(idt == l for l in test_labels):\n",
    "                test_labels.append(idt)\n",
    "                test_dict[idt] = []\n",
    "            path = CAFFE_ROOT + 'data/market-1501/bounding_box_test/' + f\n",
    "            test_files.append([path, idt])\n",
    "            test_dict[idt].append(path)\n",
    "        \n",
    "test_labels.sort()"
   ]
  },
  {
   "cell_type": "code",
   "execution_count": 9,
   "metadata": {
    "collapsed": true
   },
   "outputs": [],
   "source": [
    "input_shape = (256,128)\n",
    "\n",
    "overlay = True\n",
    "overlay_eval = True\n",
    "preprocess = True"
   ]
  },
  {
   "cell_type": "code",
   "execution_count": 10,
   "metadata": {
    "collapsed": true
   },
   "outputs": [],
   "source": [
    "def plot_score(score):\n",
    "    plt.figure(figsize=(20,5))\n",
    "    plt.subplot(1,3,1)\n",
    "    pos_distance = score['pos_distance']\n",
    "    neg_distance = score['neg_distance']\n",
    "    bins = np.linspace(0, np.max(np.array(pos_distance + neg_distance)), 100)\n",
    "    plt.hist(pos_distance, bins, alpha=0.5, label='positive pair')\n",
    "    plt.hist(neg_distance, bins, alpha=0.5, label='negative pair')\n",
    "    plt.legend(loc='upper right')\n",
    "\n",
    "    plt.subplot(1,3,2)\n",
    "    plt.plot(score['recall'], score['precision'])\n",
    "    plt.xlabel('recall')\n",
    "    plt.ylabel('precision')\n",
    "\n",
    "    plt.subplot(1,3,3)\n",
    "    plt.plot(np.linspace(0, np.max(np.array(pos_distance + neg_distance)), 101)[1:], \n",
    "             score['matt_coef'])\n",
    "    plt.xlabel('dist')\n",
    "    plt.ylabel('matt_coef')\n",
    "    \n",
    "    plt.show()\n",
    "\n",
    "    print score['rank']"
   ]
  },
  {
   "cell_type": "code",
   "execution_count": 11,
   "metadata": {
    "collapsed": true
   },
   "outputs": [],
   "source": [
    "train_score = {'densenet_triplet_cam_block2_3' : {} , 'densenet_triplet_cam_end' : {}}\n",
    "test_score = {'densenet_triplet_cam_block2_3' : {} , 'densenet_triplet_cam_end' : {}}"
   ]
  },
  {
   "cell_type": "code",
   "execution_count": 13,
   "metadata": {
    "scrolled": true
   },
   "outputs": [
    {
     "name": "stdout",
     "output_type": "stream",
     "text": [
      "0\n",
      "8 4\n",
      "Weights for the model were loaded successfully\n",
      "densenet_triplet_cam_block2_3\n",
      "train 2000\n"
     ]
    },
    {
     "ename": "KeyError",
     "evalue": "'pos_distance'",
     "output_type": "error",
     "traceback": [
      "\u001b[0;31m---------------------------------------------------------------------------\u001b[0m",
      "\u001b[0;31mKeyError\u001b[0m                                  Traceback (most recent call last)",
      "\u001b[0;32m<ipython-input-13-c1f630e0c255>\u001b[0m in \u001b[0;36m<module>\u001b[0;34m()\u001b[0m\n\u001b[1;32m     18\u001b[0m             \u001b[0;32mprint\u001b[0m \u001b[0mmodel_root\u001b[0m\u001b[0;34m[\u001b[0m\u001b[0mi\u001b[0m\u001b[0;34m]\u001b[0m\u001b[0;34m\u001b[0m\u001b[0m\n\u001b[1;32m     19\u001b[0m             \u001b[0;32mprint\u001b[0m \u001b[0;34m'train'\u001b[0m \u001b[0;34m,\u001b[0m \u001b[0miterations\u001b[0m\u001b[0;34m[\u001b[0m\u001b[0mi\u001b[0m\u001b[0;34m]\u001b[0m\u001b[0;34m\u001b[0m\u001b[0m\n\u001b[0;32m---> 20\u001b[0;31m             \u001b[0mplot_score\u001b[0m\u001b[0;34m(\u001b[0m\u001b[0mtrain_score\u001b[0m\u001b[0;34m[\u001b[0m\u001b[0mmodel_root\u001b[0m\u001b[0;34m[\u001b[0m\u001b[0mi\u001b[0m\u001b[0;34m]\u001b[0m\u001b[0;34m]\u001b[0m\u001b[0;34m[\u001b[0m\u001b[0miterations\u001b[0m\u001b[0;34m[\u001b[0m\u001b[0mi\u001b[0m\u001b[0;34m]\u001b[0m\u001b[0;34m]\u001b[0m\u001b[0;34m)\u001b[0m\u001b[0;34m\u001b[0m\u001b[0m\n\u001b[0m\u001b[1;32m     21\u001b[0m \u001b[0;34m\u001b[0m\u001b[0m\n\u001b[1;32m     22\u001b[0m             \u001b[0mtest_score\u001b[0m\u001b[0;34m[\u001b[0m\u001b[0mmodel_root\u001b[0m\u001b[0;34m[\u001b[0m\u001b[0mi\u001b[0m\u001b[0;34m]\u001b[0m\u001b[0;34m]\u001b[0m\u001b[0;34m[\u001b[0m\u001b[0miterations\u001b[0m\u001b[0;34m]\u001b[0m \u001b[0;34m=\u001b[0m \u001b[0;34m{\u001b[0m\u001b[0;34m}\u001b[0m \u001b[0;31m#triplet_merge_cam.get_score(trinet, test_dict, test_files, hist=None,\u001b[0m\u001b[0;34m\u001b[0m\u001b[0m\n",
      "\u001b[0;32m<ipython-input-10-431d686ac34e>\u001b[0m in \u001b[0;36mplot_score\u001b[0;34m(score)\u001b[0m\n\u001b[1;32m      2\u001b[0m     \u001b[0mplt\u001b[0m\u001b[0;34m.\u001b[0m\u001b[0mfigure\u001b[0m\u001b[0;34m(\u001b[0m\u001b[0mfigsize\u001b[0m\u001b[0;34m=\u001b[0m\u001b[0;34m(\u001b[0m\u001b[0;36m20\u001b[0m\u001b[0;34m,\u001b[0m\u001b[0;36m5\u001b[0m\u001b[0;34m)\u001b[0m\u001b[0;34m)\u001b[0m\u001b[0;34m\u001b[0m\u001b[0m\n\u001b[1;32m      3\u001b[0m     \u001b[0mplt\u001b[0m\u001b[0;34m.\u001b[0m\u001b[0msubplot\u001b[0m\u001b[0;34m(\u001b[0m\u001b[0;36m1\u001b[0m\u001b[0;34m,\u001b[0m\u001b[0;36m3\u001b[0m\u001b[0;34m,\u001b[0m\u001b[0;36m1\u001b[0m\u001b[0;34m)\u001b[0m\u001b[0;34m\u001b[0m\u001b[0m\n\u001b[0;32m----> 4\u001b[0;31m     \u001b[0mpos_distance\u001b[0m \u001b[0;34m=\u001b[0m \u001b[0mscore\u001b[0m\u001b[0;34m[\u001b[0m\u001b[0;34m'pos_distance'\u001b[0m\u001b[0;34m]\u001b[0m\u001b[0;34m\u001b[0m\u001b[0m\n\u001b[0m\u001b[1;32m      5\u001b[0m     \u001b[0mneg_distance\u001b[0m \u001b[0;34m=\u001b[0m \u001b[0mscore\u001b[0m\u001b[0;34m[\u001b[0m\u001b[0;34m'neg_distance'\u001b[0m\u001b[0;34m]\u001b[0m\u001b[0;34m\u001b[0m\u001b[0m\n\u001b[1;32m      6\u001b[0m     \u001b[0mbins\u001b[0m \u001b[0;34m=\u001b[0m \u001b[0mnp\u001b[0m\u001b[0;34m.\u001b[0m\u001b[0mlinspace\u001b[0m\u001b[0;34m(\u001b[0m\u001b[0;36m0\u001b[0m\u001b[0;34m,\u001b[0m \u001b[0mnp\u001b[0m\u001b[0;34m.\u001b[0m\u001b[0mmax\u001b[0m\u001b[0;34m(\u001b[0m\u001b[0mnp\u001b[0m\u001b[0;34m.\u001b[0m\u001b[0marray\u001b[0m\u001b[0;34m(\u001b[0m\u001b[0mpos_distance\u001b[0m \u001b[0;34m+\u001b[0m \u001b[0mneg_distance\u001b[0m\u001b[0;34m)\u001b[0m\u001b[0;34m)\u001b[0m\u001b[0;34m,\u001b[0m \u001b[0;36m100\u001b[0m\u001b[0;34m)\u001b[0m\u001b[0;34m\u001b[0m\u001b[0m\n",
      "\u001b[0;31mKeyError\u001b[0m: 'pos_distance'"
     ]
    },
    {
     "data": {
      "image/png": "[encoded data removed]",
      "text/plain": [
       "<matplotlib.figure.Figure at 0x7f5d8155d750>"
      ]
     },
     "metadata": {},
     "output_type": "display_data"
    }
   ],
   "source": [
    "while True:\n",
    "    iterations = [2000, 1000]\n",
    "    for i in range(len(model_root)):\n",
    "        d = os.system(download % (ip, model_root[i], model_root[i], iterations[i], model_root[i]))\n",
    "        print d\n",
    "        if d == 0:\n",
    "            model_path = model_root[i] + '_' + str(iterations[i]) + '.h5'\n",
    "            if i == 0:\n",
    "                trinet = dense.DenseNetImageNet121(input_shape=(input_shape[0],input_shape[1],3), \n",
    "                                                   cam_placement=[2])\n",
    "            elif i == 1:\n",
    "                trinet = dense.DenseNetImageNet121(input_shape=(input_shape[0],input_shape[1],3), cam_placement=[3])\n",
    "            trinet.load_weights('/home/albert/github/tensorflow/models/%s/%s' % (model_root[i], model_path))\n",
    "            \n",
    "            train_score[model_root[i]][iterations[i]] = {} #triplet_merge_cam.get_score(trinet, train_dict, train_files, hist=None, \n",
    "                                                            #      overlay=overlay, train=True, preprocess=preprocess,\n",
    "                                                             #     shape=input_shape)\n",
    "            print model_root[i]\n",
    "            print 'train' , iterations[i]\n",
    "            plot_score(train_score[model_root[i]][iterations[i]])\n",
    "\n",
    "            test_score[model_root[i]][iterations] = {} #triplet_merge_cam.get_score(trinet, test_dict, test_files, hist=None, \n",
    "                                                        #         overlay=overlay, train=False, preprocess=preprocess,\n",
    "                                                         #        shape=input_shape)\n",
    "            print model_root[i]\n",
    "            print 'test', iterations[i]\n",
    "            plot_score(test_score[model_root[i]][iterations[i]])\n",
    "\n",
    "            iterations[i] += 1000\n",
    "        else:\n",
    "            if i == 1:\n",
    "                time.sleep(300)\n",
    "            continue"
   ]
  },
  {
   "cell_type": "code",
   "execution_count": null,
   "metadata": {
    "collapsed": true
   },
   "outputs": [],
   "source": [
    "for m in model_root:\n",
    "    np.savez('/home/albert/github/tensorflow/models/%s/%s_score.npz' % (m, m), train_score[m])\n",
    "    np.savez('/home/albert/github/tensorflow/models/%s/%s_test_score.npz' % (m, m), test_score[m])"
   ]
  },
  {
   "cell_type": "code",
   "execution_count": 15,
   "metadata": {},
   "outputs": [
    {
     "data": {
      "text/plain": [
       "'scp -i /home/albert/aws/ec2-ubuntu.pem ubuntu@ec2-52-14-4-98.us-east-2.compute.amazonaws.com:albert/models/densenet_triplet_cam_block2_3/densenet_triplet_cam_block2_3_2000.h5 /home/albert/github/tensorflow/models/densenet_triplet_cam_block2_3/'"
      ]
     },
     "execution_count": 15,
     "metadata": {},
     "output_type": "execute_result"
    }
   ],
   "source": [
    "download % (ip, model_root[0], model_root[0], iterations[0], model_root[0])"
   ]
  },
  {
   "cell_type": "code",
   "execution_count": null,
   "metadata": {
    "collapsed": true
   },
   "outputs": [],
   "source": []
  }
 ],
 "metadata": {
  "kernelspec": {
   "display_name": "Python 2",
   "language": "python",
   "name": "python2"
  },
  "language_info": {
   "codemirror_mode": {
    "name": "ipython",
    "version": 2
   },
   "file_extension": ".py",
   "mimetype": "text/x-python",
   "name": "python",
   "nbconvert_exporter": "python",
   "pygments_lexer": "ipython2",
   "version": "2.7.13"
  }
 },
 "nbformat": 4,
 "nbformat_minor": 2
}
