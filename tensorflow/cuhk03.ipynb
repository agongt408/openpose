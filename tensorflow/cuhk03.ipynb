{
 "cells": [
  {
   "cell_type": "code",
   "execution_count": 1,
   "metadata": {
    "collapsed": true
   },
   "outputs": [],
   "source": [
    "import numpy as np\n",
    "import matplotlib.pyplot as plt\n",
    "import time\n",
    "import os\n",
    "%matplotlib inline"
   ]
  },
  {
   "cell_type": "code",
   "execution_count": 2,
   "metadata": {},
   "outputs": [
    {
     "name": "stderr",
     "output_type": "stream",
     "text": [
      "Using TensorFlow backend.\n"
     ]
    }
   ],
   "source": [
    "import sys\n",
    "sys.path.append('/home/albert/github/DenseNet/')\n",
    "import densenet\n",
    "sys.path.append('/home/albert/github/tensorflow/src/')\n",
    "import triplet\n",
    "import evaluation\n",
    "import data\n",
    "import models"
   ]
  },
  {
   "cell_type": "code",
   "execution_count": 3,
   "metadata": {
    "collapsed": true
   },
   "outputs": [],
   "source": [
    "def evaluate_rank(all_embeddings, query_embeddings,\n",
    "                    test_dict=None, test_files=None, query_files=None,\n",
    "                    rank=[1,5], DATA_ROOT='/home/albert/github/tensorflow/'):\n",
    "    if test_dict is None or test_files is None or query_files is None:\n",
    "        test_dict, test_files = get_data('test', DATA_ROOT)\n",
    "        _, query_files = get_data('query', DATA_ROOT)\n",
    "\n",
    "    all_identities = np.array([p[1] for p in test_files])\n",
    "    all_camera = np.array([p[2] for p in test_files])\n",
    "\n",
    "    correct = np.array([0] * len(rank))\n",
    "    test_iter = np.array([0] * len(rank))\n",
    "\n",
    "    for q in range(len(query_files)):\n",
    "        idt, camera = int(query_files[q][1]), int(query_files[q][2])\n",
    "        b = np.logical_or(all_camera != camera, all_identities != idt)\n",
    "\n",
    "        if len(test_dict[idt].keys()) > 1:\n",
    "            query_embedding = query_embeddings[q]\n",
    "            distance_vectors = np.squeeze(np.abs(all_embeddings[b] - query_embedding))\n",
    "            distance = np.sum(distance_vectors, axis=1)\n",
    "\n",
    "            for r in range(len(rank)):\n",
    "                top_inds = distance.argsort()[:rank[r]]\n",
    "                output_classes = all_identities[b][top_inds]\n",
    "                # print output_classes\n",
    "\n",
    "                if np.where(output_classes == idt)[0].shape[0] > 0:\n",
    "                    correct[r] += 1\n",
    "                test_iter[r] += 1\n",
    "\n",
    "    return np.divide(correct.astype(np.float32), test_iter).tolist()"
   ]
  },
  {
   "cell_type": "code",
   "execution_count": null,
   "metadata": {
    "collapsed": true
   },
   "outputs": [],
   "source": []
  }
 ],
 "metadata": {
  "kernelspec": {
   "display_name": "Python 2",
   "language": "python",
   "name": "python2"
  },
  "language_info": {
   "codemirror_mode": {
    "name": "ipython",
    "version": 2
   },
   "file_extension": ".py",
   "mimetype": "text/x-python",
   "name": "python",
   "nbconvert_exporter": "python",
   "pygments_lexer": "ipython2",
   "version": "2.7.13"
  }
 },
 "nbformat": 4,
 "nbformat_minor": 2
}
