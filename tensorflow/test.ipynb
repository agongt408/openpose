{
 "cells": [
  {
   "cell_type": "code",
   "execution_count": 1,
   "metadata": {},
   "outputs": [
    {
     "name": "stderr",
     "output_type": "stream",
     "text": [
      "Using TensorFlow backend.\n"
     ]
    }
   ],
   "source": [
    "import keras.backend as K\n",
    "import sys\n",
    "sys.path.append('/home/albert/github/tensorflow/src/')\n",
    "import evaluation\n",
    "import data\n",
    "import dense\n",
    "import triplet"
   ]
  },
  {
   "cell_type": "code",
   "execution_count": 2,
   "metadata": {
    "collapsed": true
   },
   "outputs": [],
   "source": [
    "import numpy as np\n",
    "import matplotlib.pyplot as plt\n",
    "import time\n",
    "%matplotlib inline"
   ]
  },
  {
   "cell_type": "code",
   "execution_count": 5,
   "metadata": {
    "scrolled": false
   },
   "outputs": [
    {
     "name": "stdout",
     "output_type": "stream",
     "text": [
      "1000 0.0110051631927\n",
      "2000 0.0220839977264\n",
      "3000 0.0325109958649\n",
      "4000 0.0433320999146\n",
      "5000 0.0591549873352\n",
      "6000 0.070041179657\n",
      "7000 0.0800352096558\n",
      "8000 0.090683221817\n",
      "9000 0.100670099258\n",
      "10000 0.11060500145\n",
      "11000 0.121247053146\n",
      "12000 0.13130903244\n",
      "13000 0.150262117386\n",
      "14000 0.160706043243\n",
      "15000 0.172026157379\n",
      "16000 0.18235206604\n",
      "17000 0.19268321991\n",
      "18000 0.203742027283\n",
      "19000 0.214714050293\n",
      "1000 0.0114998817444\n",
      "2000 0.0309088230133\n",
      "3000 0.042377948761\n",
      "17000 {'mAP': 0.0011640047541485513, 'rank': [0.0002969121140142518, 0.0017814726840855108, 0.011876484560570071], 'loss': []}\n"
     ]
    }
   ],
   "source": [
    "score = {}\n",
    "for it in range(17000,18000,1000):\n",
    "    file_root = 'densenet_triplet_block_neck'\n",
    "    model = evaluation.load_model('/home/albert/github/tensorflow/pre/pre3/models/%s/%s.json' % ('densenet_triplet', 'densenet_triplet'), \n",
    "                                  '/home/albert/github/tensorflow/models/%s/%s_%d.npy' % (file_root, file_root, it))\n",
    "    score[it] = evaluation.get_score(model, keypoints=None, preprocess=True, shape=(256,128))\n",
    "    print it, score[it]"
   ]
  },
  {
   "cell_type": "code",
   "execution_count": 3,
   "metadata": {
    "collapsed": true
   },
   "outputs": [],
   "source": [
    "train_dict, train_files = data.get_data('train', keypoints=['Neck'])"
   ]
  },
  {
   "cell_type": "code",
   "execution_count": 6,
   "metadata": {},
   "outputs": [
    {
     "name": "stdout",
     "output_type": "stream",
     "text": [
      "preprocess True\n",
      "keypoints ['Neck']\n",
      "1.39104390144\n"
     ]
    }
   ],
   "source": [
    "start = time.time()\n",
    "batch = data.output_batch_generator(train_dict, P=8, preprocess=True,\n",
    "                                    shape=(256,128), keypoints=['Neck'], r=0.6,\n",
    "                                    cam_output_dim=(16,8), cam_wide=False, crop=False).next()\n",
    "print time.time() - start"
   ]
  },
  {
   "cell_type": "code",
   "execution_count": 4,
   "metadata": {},
   "outputs": [],
   "source": [
    "htmp = data.create_keypoints(train_files[0][0], keypoints=['Neck'], r=0.2)"
   ]
  },
  {
   "cell_type": "code",
   "execution_count": 5,
   "metadata": {},
   "outputs": [
    {
     "data": {
      "text/plain": [
       "<matplotlib.image.AxesImage at 0x7fe0553b8450>"
      ]
     },
     "execution_count": 5,
     "metadata": {},
     "output_type": "execute_result"
    },
    {
     "data": {
      "image/png": "[encoded data removed]",
      "text/plain": [
       "<matplotlib.figure.Figure at 0x7fdfd11f9750>"
      ]
     },
     "metadata": {},
     "output_type": "display_data"
    }
   ],
   "source": [
    "plt.imshow(htmp)"
   ]
  },
  {
   "cell_type": "code",
   "execution_count": 6,
   "metadata": {},
   "outputs": [
    {
     "name": "stdout",
     "output_type": "stream",
     "text": [
      "[[ 1.  1.  1. ...,  1.  1.  1.]\n",
      " [ 1.  1.  1. ...,  1.  1.  1.]\n",
      " [ 1.  1.  1. ...,  1.  1.  1.]\n",
      " ..., \n",
      " [ 1.  1.  1. ...,  1.  1.  1.]\n",
      " [ 1.  1.  1. ...,  1.  1.  1.]\n",
      " [ 1.  1.  1. ...,  1.  1.  1.]]\n"
     ]
    }
   ],
   "source": [
    "print htmp"
   ]
  },
  {
   "cell_type": "code",
   "execution_count": 7,
   "metadata": {},
   "outputs": [
    {
     "name": "stdout",
     "output_type": "stream",
     "text": [
      "[[ 1.  1.  1. ...,  1.  1.  1.]\n",
      " [ 1.  1.  1. ...,  1.  1.  1.]\n",
      " [ 1.  1.  1. ...,  1.  1.  1.]\n",
      " ..., \n",
      " [ 1.  1.  1. ...,  1.  1.  1.]\n",
      " [ 1.  1.  1. ...,  1.  1.  1.]\n",
      " [ 1.  1.  1. ...,  1.  1.  1.]]\n"
     ]
    }
   ],
   "source": [
    "print data.makeRect((256,123))"
   ]
  },
  {
   "cell_type": "code",
   "execution_count": null,
   "metadata": {
    "collapsed": true
   },
   "outputs": [],
   "source": []
  }
 ],
 "metadata": {
  "kernelspec": {
   "display_name": "Python 2",
   "language": "python",
   "name": "python2"
  },
  "language_info": {
   "codemirror_mode": {
    "name": "ipython",
    "version": 2
   },
   "file_extension": ".py",
   "mimetype": "text/x-python",
   "name": "python",
   "nbconvert_exporter": "python",
   "pygments_lexer": "ipython2",
   "version": "2.7.13"
  }
 },
 "nbformat": 4,
 "nbformat_minor": 2
}
