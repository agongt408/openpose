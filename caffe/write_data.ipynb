{
 "cells": [
  {
   "cell_type": "code",
   "execution_count": 10,
   "metadata": {
    "collapsed": true
   },
   "outputs": [],
   "source": [
    "import os\n",
    "import numpy as np\n",
    "\n",
    "CAFFE_ROOT = '/home/albert/caffe/'"
   ]
  },
  {
   "cell_type": "code",
   "execution_count": 11,
   "metadata": {
    "collapsed": true
   },
   "outputs": [],
   "source": [
    "train_files = os.listdir(CAFFE_ROOT + 'data/market-1501/bounding_box_train')\n",
    "test_files = os.listdir(CAFFE_ROOT + 'data/market-1501/bounding_box_test')"
   ]
  },
  {
   "cell_type": "code",
   "execution_count": 12,
   "metadata": {},
   "outputs": [],
   "source": [
    "train_data = ''\n",
    "test_data = ''\n",
    "labels = []\n",
    "\n",
    "for f in train_files:\n",
    "    if f[-4:] == '.jpg':\n",
    "        idt = int(f[0:f.index('_')])\n",
    "        if not any(idt == l for l in labels):\n",
    "            labels.append(idt)\n",
    "\n",
    "labels.sort()\n",
    "\n",
    "for f in train_files:\n",
    "    if f[-4:] == '.jpg':\n",
    "        idt = int(f[0:f.index('_')])\n",
    "        i = labels.index(idt)\n",
    "        if i < 10:\n",
    "            path = CAFFE_ROOT + 'data/market-1501/bounding_box_train/' + f\n",
    "            train_data += '%s %d\\n' % (path, i)\n",
    "        \n",
    "\n",
    "for f in test_files:\n",
    "    if f[-4:] == '.jpg':\n",
    "        idt = int(f[:f.index('_')])\n",
    "        path = CAFFE_ROOT + 'data/market-1501/bounding_box_train/' + f\n",
    "        test_data += '%s %d\\n' % (path, idt)"
   ]
  },
  {
   "cell_type": "code",
   "execution_count": 13,
   "metadata": {
    "collapsed": true
   },
   "outputs": [],
   "source": [
    "with open(CAFFE_ROOT + 'data/market-1501/train.txt', 'w') as f:\n",
    "    f.write(train_data)\n",
    "    \n",
    "with open(CAFFE_ROOT + 'data/market-1501/test.txt', 'w') as f:\n",
    "    f.write(test_data)\n",
    "\n",
    "with open(CAFFE_ROOT + 'data/market-1501/labels.txt', 'w') as f:\n",
    "    \n",
    "    labels_str = ''\n",
    "    for l in labels:\n",
    "        labels_str += str(l) + '\\n'\n",
    "    f.write(labels_str)"
   ]
  },
  {
   "cell_type": "code",
   "execution_count": 14,
   "metadata": {},
   "outputs": [
    {
     "data": {
      "text/plain": [
       "751"
      ]
     },
     "execution_count": 14,
     "metadata": {},
     "output_type": "execute_result"
    }
   ],
   "source": [
    "len(labels)"
   ]
  },
  {
   "cell_type": "code",
   "execution_count": null,
   "metadata": {
    "collapsed": true
   },
   "outputs": [],
   "source": []
  }
 ],
 "metadata": {
  "kernelspec": {
   "display_name": "Python 2",
   "language": "python",
   "name": "python2"
  },
  "language_info": {
   "codemirror_mode": {
    "name": "ipython",
    "version": 2
   },
   "file_extension": ".py",
   "mimetype": "text/x-python",
   "name": "python",
   "nbconvert_exporter": "python",
   "pygments_lexer": "ipython2",
   "version": "2.7.13"
  }
 },
 "nbformat": 4,
 "nbformat_minor": 2
}
