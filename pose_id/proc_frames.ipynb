{
 "cells": [
  {
   "cell_type": "code",
   "execution_count": 5,
   "metadata": {
    "collapsed": true
   },
   "outputs": [],
   "source": [
    "import numpy as np\n",
    "import cv2\n",
    "import matplotlib.pyplot as plt\n",
    "import imageio\n",
    "import os\n",
    "from scipy import misc\n",
    "import json\n",
    "import pprint\n",
    "import time\n",
    "\n",
    "%matplotlib inline"
   ]
  },
  {
   "cell_type": "code",
   "execution_count": 6,
   "metadata": {
    "collapsed": true
   },
   "outputs": [],
   "source": [
    "BODY_PARTS = [\n",
    "    \"Nose\",\n",
    "    \"Neck\",\n",
    "    \"RShoulder\",\n",
    "    \"RElbow\",\n",
    "    \"RWrist\",\n",
    "    \"LShoulder\",\n",
    "    \"LElbow\",\n",
    "    \"LWrist\",\n",
    "    \"RHip\",\n",
    "    \"RKnee\",# Add 10 to remove blown-out artifacts\n",
    "    \"RAnkle\",\n",
    "    \"LHip\",\n",
    "    \"LKnee\",\n",
    "    \"LAnkle\",\n",
    "    \"REye\",\n",
    "    \"LEye\",\n",
    "    \"REar\",\n",
    "    \"LEar\",\n",
    "    \"Bkg\",\n",
    "]"
   ]
  },
  {
   "cell_type": "code",
   "execution_count": 11,
   "metadata": {
    "collapsed": true
   },
   "outputs": [],
   "source": [
    "OPENPOSE_ROOT = '/home/albert/openpose/'\n",
    "\n",
    "POSE_ID_ROOT = '/home/albert/openpose/albert/pose_id/'\n",
    "# POSE_ID_ROOT = '/Users/tradergllc/openpose/pose_id/'"
   ]
  },
  {
   "cell_type": "code",
   "execution_count": 12,
   "metadata": {
    "collapsed": true
   },
   "outputs": [],
   "source": [
    "def render_frame(f):\n",
    "    img_file = POSE_ID_ROOT + 'DJI_seq/DJI_0005_%d.png' % f\n",
    "    pose_file = POSE_ID_ROOT + 'DJI_pose/DJI_0005_%d_keypoints.json' % f\n",
    "    render_file = POSE_ID_ROOT + 'DJI_render/DJI_0005_%d_rendered.png' % f\n",
    "    #     heatmap_file = OPENPOSE_ROOT + 'DJI_seq/DJI_0005_' + f + '.png'\n",
    "\n",
    "    img = misc.imread(img_file)\n",
    "    render = misc.imread(render_file)\n",
    "\n",
    "    with open(pose_file) as data_file:    \n",
    "        data = json.load(data_file)\n",
    "\n",
    "    for p in range(len(data['people'])):\n",
    "        x_max, x_min = 0, img.shape[1]\n",
    "        y_max, y_min = 0, img.shape[0]\n",
    "        \n",
    "        for k_type in data['people'][p].keys():\n",
    "            pose_dict = {'x' : [], 'y' : [], 'c' : []}\n",
    "\n",
    "            for i in range(0, len(data['people'][p][k_type]), 3):\n",
    "                x = data['people'][p][k_type][i]\n",
    "                y = data['people'][p][k_type][i + 1]\n",
    "                c = data['people'][p][k_type][i + 2]\n",
    "                \n",
    "                img = cv2.circle(img,(int(x),int(y)), 5, (0,int(255 * c),int(255 * c)), -1)\n",
    "                \n",
    "                pose_dict['x'].append(x)\n",
    "                pose_dict['y'].append(y)\n",
    "                pose_dict['c'].append(c)\n",
    "                \n",
    "                if k_type == 'pose_keypoints':\n",
    "                    if x < x_min and x > 0:\n",
    "                        x_min = x\n",
    "                    if x > x_max:\n",
    "                        x_max = x\n",
    "                    if y < y_min and y > 0:\n",
    "                        y_min = y\n",
    "                    if y > y_max:\n",
    "                        y_max = y\n",
    "\n",
    "            data['people'][p][k_type] = pose_dict\n",
    "            \n",
    "            diff_x = x_max - x_min\n",
    "            diff_y = y_max - y_min\n",
    "            r_x = 0.5\n",
    "            r_y = 0.2\n",
    "            img = cv2.rectangle(img, (int(x_min-r_x*diff_x),int(y_min-r_y*diff_y)), \n",
    "                                    (int(x_max+r_x*diff_x),int(y_max+r_y*diff_y)), \n",
    "                                    (0,255,0), 3)\n",
    "    return img, len(data['people'])"
   ]
  },
  {
   "cell_type": "code",
   "execution_count": 13,
   "metadata": {},
   "outputs": [
    {
     "name": "stdout",
     "output_type": "stream",
     "text": [
      "/home/albert/openpose/albert/pose_id\r\n"
     ]
    }
   ],
   "source": [
    "!pwd"
   ]
  },
  {
   "cell_type": "code",
   "execution_count": 15,
   "metadata": {},
   "outputs": [
    {
     "name": "stdout",
     "output_type": "stream",
     "text": [
      "Frames rendered: 0, Time: 0.0001\n",
      "Frames rendered: 10, Time: 1.1538\n",
      "Frames rendered: 20, Time: 2.3571\n",
      "Frames rendered: 30, Time: 3.5483\n",
      "Frames rendered: 40, Time: 4.7298\n",
      "Frames rendered: 50, Time: 5.8969\n",
      "Frames rendered: 60, Time: 7.1066\n",
      "Frames rendered: 70, Time: 8.6141\n",
      "Frames rendered: 80, Time: 10.5339\n",
      "Frames rendered: 90, Time: 11.9814\n",
      "Frames rendered: 100, Time: 13.3559\n",
      "Frames rendered: 110, Time: 14.7130\n",
      "Frames rendered: 120, Time: 16.2125\n",
      "Frames rendered: 130, Time: 17.6067\n",
      "Frames rendered: 140, Time: 18.9811\n",
      "Render complete!\n"
     ]
    }
   ],
   "source": [
    "frames= []\n",
    "f_n = 150\n",
    "start = time.time()\n",
    "\n",
    "for f in range(0, f_n * 5, 5):\n",
    "    if f % 50 == 0:\n",
    "        end = time.time()\n",
    "        print(\"Frames rendered: %d, Time: %.4f\" % (f / 5, end - start))\n",
    "\n",
    "    img, n_people = render_frame(f)\n",
    "    frames.append(img)\n",
    "    \n",
    "print(\"Render complete!\")"
   ]
  },
  {
   "cell_type": "code",
   "execution_count": 17,
   "metadata": {},
   "outputs": [
    {
     "name": "stdout",
     "output_type": "stream",
     "text": [
      "Frames rendered: 0, Time: 0.0005\n",
      "Frames rendered: 10, Time: 0.4645\n",
      "Frames rendered: 20, Time: 0.7007\n",
      "Frames rendered: 30, Time: 0.9143\n",
      "Frames rendered: 40, Time: 1.1449\n",
      "Frames rendered: 50, Time: 2.2159\n",
      "Frames rendered: 60, Time: 3.1080\n",
      "Frames rendered: 70, Time: 3.7761\n",
      "Frames rendered: 80, Time: 4.7524\n",
      "Frames rendered: 90, Time: 5.7197\n",
      "Frames rendered: 100, Time: 6.7263\n",
      "Frames rendered: 110, Time: 7.6999\n",
      "Frames rendered: 120, Time: 8.6390\n",
      "Frames rendered: 130, Time: 9.5626\n",
      "Frames rendered: 140, Time: 10.5452\n",
      "Video render complete\n"
     ]
    }
   ],
   "source": [
    "writer = imageio.get_writer('DJI_render.mp4', fps=5)\n",
    "\n",
    "start = time.time()\n",
    "\n",
    "for f in range(len(frames)):\n",
    "    if f % 10 == 0:\n",
    "        end = time.time()\n",
    "        print(\"Frames rendered: %d, Time: %.4f\" % (f, end - start))\n",
    "    writer.append_data(frames[f])\n",
    "writer.close()\n",
    "print(\"Video render complete\")"
   ]
  },
  {
   "cell_type": "code",
   "execution_count": null,
   "metadata": {
    "collapsed": true
   },
   "outputs": [],
   "source": []
  }
 ],
 "metadata": {
  "kernelspec": {
   "display_name": "Python 2",
   "language": "python",
   "name": "python2"
  },
  "language_info": {
   "codemirror_mode": {
    "name": "ipython",
    "version": 2
   },
   "file_extension": ".py",
   "mimetype": "text/x-python",
   "name": "python",
   "nbconvert_exporter": "python",
   "pygments_lexer": "ipython2",
   "version": "2.7.13"
  }
 },
 "nbformat": 4,
 "nbformat_minor": 2
}
