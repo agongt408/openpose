{
 "cells": [
  {
   "cell_type": "code",
   "execution_count": 1,
   "metadata": {},
   "outputs": [
    {
     "name": "stderr",
     "output_type": "stream",
     "text": [
      "Using TensorFlow backend.\n"
     ]
    }
   ],
   "source": [
    "import numpy as np\n",
    "from scipy import misc\n",
    "import pprint as pp\n",
    "import os\n",
    "import cv2\n",
    "import matplotlib.pyplot as plt\n",
    "%matplotlib inline\n",
    "\n",
    "import tensorflow as tf\n",
    "from keras.models import Model\n",
    "from keras.models import load_model\n",
    "from keras import backend as Keras\n",
    "\n",
    "from sklearn import metrics\n",
    "from scipy.spatial import distance"
   ]
  },
  {
   "cell_type": "code",
   "execution_count": 2,
   "metadata": {
    "collapsed": true
   },
   "outputs": [],
   "source": [
    "CAFFE_ROOT = '/home/albert/caffe/'\n",
    "train_img_dir = os.listdir(CAFFE_ROOT + 'data/market-1501/bounding_box_train')\n",
    "test_img_dir = os.listdir(CAFFE_ROOT + 'data/market-1501/bounding_box_test')"
   ]
  },
  {
   "cell_type": "code",
   "execution_count": 3,
   "metadata": {
    "collapsed": true
   },
   "outputs": [],
   "source": [
    "train_dict = {}\n",
    "train_files = []\n",
    "train_labels = []\n",
    "\n",
    "for f in train_img_dir:\n",
    "    if f[-4:] == '.jpg':\n",
    "        idt = int(f[0:f.index('_')])\n",
    "        if not any(idt == l for l in train_labels):\n",
    "            train_labels.append(idt)\n",
    "            train_dict[idt] = []\n",
    "        path = CAFFE_ROOT + 'data/market-1501/bounding_box_train/' + f\n",
    "        train_files.append([path, idt])\n",
    "        train_dict[idt].append(path)\n",
    "\n",
    "train_labels.sort()\n",
    "\n",
    "test_dict = {}\n",
    "test_files = []\n",
    "test_labels = []\n",
    "\n",
    "for f in test_img_dir:\n",
    "    if f[-4:] == '.jpg':\n",
    "        idt = int(f[0:f.index('_')])\n",
    "        if idt != 0 and idt != -1:\n",
    "            if not any(idt == l for l in test_labels):\n",
    "                test_labels.append(idt)\n",
    "                test_dict[idt] = []\n",
    "            path = CAFFE_ROOT + 'data/market-1501/bounding_box_test/' + f\n",
    "            test_files.append([path, idt])\n",
    "            test_dict[idt].append(path)\n",
    "        \n",
    "test_labels.sort()"
   ]
  },
  {
   "cell_type": "code",
   "execution_count": 4,
   "metadata": {
    "collapsed": true
   },
   "outputs": [],
   "source": [
    "# Number of identities\n",
    "P_param = 18\n",
    "# Number of images per identity\n",
    "K_param = 4"
   ]
  },
  {
   "cell_type": "code",
   "execution_count": 5,
   "metadata": {
    "collapsed": true
   },
   "outputs": [],
   "source": [
    "def log1p(x):\n",
    "    return Keras.log(1 + Keras.exp(x))"
   ]
  },
  {
   "cell_type": "code",
   "execution_count": 6,
   "metadata": {
    "collapsed": true
   },
   "outputs": [],
   "source": [
    "def dist(x1, x2):\n",
    "    return Keras.sum(Keras.abs(x1 - x2), axis=1)"
   ]
  },
  {
   "cell_type": "code",
   "execution_count": 7,
   "metadata": {
    "collapsed": true
   },
   "outputs": [],
   "source": [
    "def triplet_loss(y_true, y_pred, margin=0.5, P=P_param, K=K_param, output_dim = 128):\n",
    "    embeddings = Keras.reshape(y_pred, (-1, output_dim))\n",
    "\n",
    "    loss = tf.Variable(1, dtype=tf.float32)\n",
    "\n",
    "    for i in range(P):\n",
    "        for a in range(K):\n",
    "            pred_anchor = embeddings[i*K + a]\n",
    "            hard_pos = Keras.max(dist(pred_anchor, embeddings[i*K:(i + 1)*K]))\n",
    "            hard_neg = Keras.min(dist(pred_anchor, Keras.concatenate([embeddings[0:i*K],\n",
    "                                                                      embeddings[(i + 1)*K:]], 0)))\n",
    "            loss += margin + hard_pos - hard_neg\n",
    "    return loss"
   ]
  },
  {
   "cell_type": "code",
   "execution_count": 8,
   "metadata": {
    "collapsed": true
   },
   "outputs": [],
   "source": [
    "def pos_pair_generator(files_dict):\n",
    "    while True:\n",
    "        idt = np.random.choice(files_dict.keys(), 1, replace=False)[0]\n",
    "        sample_choice = np.random.choice(range(len(files_dict[idt])), np.minimum(2, len(files_dict[idt])), replace=False)\n",
    "        pair = [misc.imread(files_dict[idt][p]).tolist() for p in sample_choice]\n",
    "        yield(np.array(pair).astype(np.uint8))"
   ]
  },
  {
   "cell_type": "code",
   "execution_count": 9,
   "metadata": {
    "collapsed": true
   },
   "outputs": [],
   "source": [
    "def neg_pair_generator(files_dict):\n",
    "    while True:\n",
    "        idt_choice = np.random.choice(files_dict.keys(), 2, replace=False)\n",
    "        pair = []\n",
    "        for idt in idt_choice:\n",
    "            sample = np.random.choice(range(len(files_dict[idt])), 1, replace=False)[0]\n",
    "            pair.append(misc.imread(files_dict[idt][sample]).tolist())\n",
    "        yield(np.array(pair).astype(np.uint8))"
   ]
  },
  {
   "cell_type": "code",
   "execution_count": 10,
   "metadata": {
    "collapsed": true
   },
   "outputs": [],
   "source": [
    "def l2(x1, x2):\n",
    "    l2 = np.sqrt(np.sum(np.power(x1 - x2, 2)))\n",
    "    return l2"
   ]
  },
  {
   "cell_type": "code",
   "execution_count": 11,
   "metadata": {
    "collapsed": true
   },
   "outputs": [],
   "source": [
    "def evaluate_dist(model, generator, n_pairs=1000):\n",
    "    distances = []\n",
    "    for t in range(n_pairs):\n",
    "        pair = generator.next()   \n",
    "        predict = [model.predict(pair[i].reshape(1,128,64,3)) for i in range(2)]\n",
    "        dist = distance.cosine(predict[0], predict[1])\n",
    "        distances.append(dist)\n",
    "    return distances"
   ]
  },
  {
   "cell_type": "code",
   "execution_count": 20,
   "metadata": {
    "collapsed": true
   },
   "outputs": [],
   "source": [
    "model = load_model('/home/albert/github/tensorflow/models/densenet_triplet_margin_3/densenet_triplet_margin_3_5000.h5', \n",
    "                   custom_objects={'triplet_loss':triplet_loss})"
   ]
  },
  {
   "cell_type": "code",
   "execution_count": 21,
   "metadata": {
    "collapsed": true
   },
   "outputs": [],
   "source": [
    "pos_generator = pos_pair_generator(test_dict)\n",
    "neg_generator = neg_pair_generator(test_dict)\n",
    "\n",
    "pos_distance = evaluate_dist(model, pos_generator)\n",
    "neg_distance = evaluate_dist(model, neg_generator)"
   ]
  },
  {
   "cell_type": "code",
   "execution_count": 22,
   "metadata": {},
   "outputs": [
    {
     "data": {
      "image/png": "[encoded data removed]",
      "text/plain": [
       "<matplotlib.figure.Figure at 0x7f1a0362ff90>"
      ]
     },
     "metadata": {},
     "output_type": "display_data"
    }
   ],
   "source": [
    "plt.figure(figsize=(10,5))\n",
    "bins = np.linspace(0, np.max(np.array(pos_distance + neg_distance)), 100)\n",
    "plt.hist(pos_distance, bins, alpha=0.5, label='positive pair')\n",
    "plt.hist(neg_distance, bins, alpha=0.5, label='negative pair')\n",
    "plt.legend(loc='upper right')\n",
    "plt.show()"
   ]
  },
  {
   "cell_type": "code",
   "execution_count": 23,
   "metadata": {
    "collapsed": true
   },
   "outputs": [],
   "source": [
    "precision = []\n",
    "recall = []\n",
    "matt_coef = []\n",
    "\n",
    "for thresh in np.linspace(0, np.max(np.array(pos_distance + neg_distance)), 101)[1:]:\n",
    "    true = np.ones(len(pos_distance)).tolist() + np.zeros(len(neg_distance)).tolist()\n",
    "    pred_pos = [int(d < thresh) for d in pos_distance]\n",
    "    pred_neg = [int(d < thresh) for d in neg_distance]\n",
    "    pred = pred_pos + pred_neg\n",
    "\n",
    "    precision.append(metrics.precision_score(true, pred))\n",
    "    recall.append(metrics.recall_score(true, pred))\n",
    "    matt_coef.append(metrics.matthews_corrcoef(true, pred))"
   ]
  },
  {
   "cell_type": "code",
   "execution_count": 24,
   "metadata": {},
   "outputs": [
    {
     "data": {
      "text/plain": [
       "<matplotlib.text.Text at 0x7f1a571558d0>"
      ]
     },
     "execution_count": 24,
     "metadata": {},
     "output_type": "execute_result"
    },
    {
     "data": {
      "image/png": "[encoded data removed]",
      "text/plain": [
       "<matplotlib.figure.Figure at 0x7f19e43bd990>"
      ]
     },
     "metadata": {},
     "output_type": "display_data"
    }
   ],
   "source": [
    "plt.plot(recall, precision)\n",
    "plt.xlabel('recall')\n",
    "plt.ylabel('precision')"
   ]
  },
  {
   "cell_type": "code",
   "execution_count": 25,
   "metadata": {},
   "outputs": [
    {
     "data": {
      "text/plain": [
       "[<matplotlib.lines.Line2D at 0x7f19c55ddd10>]"
      ]
     },
     "execution_count": 25,
     "metadata": {},
     "output_type": "execute_result"
    },
    {
     "data": {
      "image/png": "[encoded data removed]",
      "text/plain": [
       "<matplotlib.figure.Figure at 0x7f19c564fe90>"
      ]
     },
     "metadata": {},
     "output_type": "display_data"
    }
   ],
   "source": [
    "plt.plot(np.linspace(0, np.max(np.array(pos_distance + neg_distance)), 101)[1:], matt_coef)"
   ]
  },
  {
   "cell_type": "code",
   "execution_count": 26,
   "metadata": {},
   "outputs": [
    {
     "name": "stdout",
     "output_type": "stream",
     "text": [
      "0.339048831657\n"
     ]
    }
   ],
   "source": [
    "print np.linspace(0, np.max(np.array(pos_distance + neg_distance)), 101)[1:][np.array(matt_coef).argmax()]"
   ]
  },
  {
   "cell_type": "markdown",
   "metadata": {},
   "source": [
    "Training threshold: 0.143445718122 <br>\n",
    "Testing threshold: 0.339048831657"
   ]
  },
  {
   "cell_type": "code",
   "execution_count": null,
   "metadata": {
    "collapsed": true
   },
   "outputs": [],
   "source": []
  }
 ],
 "metadata": {
  "kernelspec": {
   "display_name": "Python 2",
   "language": "python",
   "name": "python2"
  },
  "language_info": {
   "codemirror_mode": {
    "name": "ipython",
    "version": 2
   },
   "file_extension": ".py",
   "mimetype": "text/x-python",
   "name": "python",
   "nbconvert_exporter": "python",
   "pygments_lexer": "ipython2",
   "version": "2.7.13"
  }
 },
 "nbformat": 4,
 "nbformat_minor": 2
}
